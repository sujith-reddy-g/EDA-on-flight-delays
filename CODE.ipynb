{
  "cells": [
    {
      "cell_type": "markdown",
      "metadata": {
        "id": "q4a1Q5bFm_nr"
      },
      "source": [
        "////////////////////////////////////////////////////////////////////////////////This is BIG DATA ANALYTICS project ////////////////////////////////////////////////////////////////////////\n",
        "\n",
        "Sujith Reddy Ganta\n",
        "\n",
        "First we have downloaded datasets to our local system then uploaded to the datasets to our google drive. To use the datasets we have mounted to the google colab for performing EDA. thus is the location '/content/drive/MyDrive/itc686_project/' if you are running the code would request to place the files in the same loaction.<br>\n",
        "\n",
        "////////////////////////////////////////////////////////////////////////////////////////////////////////////////////////////////////////////////////////////////////////////"
      ]
    },
    {
      "cell_type": "code",
      "execution_count": 1,
      "metadata": {
        "colab": {
          "base_uri": "https://localhost:8080/"
        },
        "id": "3gL6itVrjaBF",
        "outputId": "877670ce-57f9-4009-a968-fcc72e25e54b"
      },
      "outputs": [
        {
          "output_type": "stream",
          "name": "stdout",
          "text": [
            "Mounted at /content/drive\n"
          ]
        }
      ],
      "source": [
        "from google.colab import drive\n",
        "drive.mount('/content/drive')"
      ]
    },
    {
      "cell_type": "code",
      "execution_count": 2,
      "metadata": {
        "colab": {
          "base_uri": "https://localhost:8080/"
        },
        "id": "h241jxgnJu6k",
        "outputId": "afb7ebd9-8249-4b92-a76b-5f053e318329"
      },
      "outputs": [
        {
          "output_type": "stream",
          "name": "stdout",
          "text": [
            "drive/MyDrive/itc686_project/Flights_2021_10.csv  drive/MyDrive/itc686_project/Flights_2021_8.csv\n",
            "drive/MyDrive/itc686_project/Flights_2021_11.csv  drive/MyDrive/itc686_project/Flights_2021_9.csv\n",
            "drive/MyDrive/itc686_project/Flights_2021_12.csv  drive/MyDrive/itc686_project/Flights_2022_1.csv\n",
            "drive/MyDrive/itc686_project/Flights_2021_1.csv   drive/MyDrive/itc686_project/Flights_2022_2.csv\n",
            "drive/MyDrive/itc686_project/Flights_2021_2.csv   drive/MyDrive/itc686_project/Flights_2022_3.csv\n",
            "drive/MyDrive/itc686_project/Flights_2021_3.csv   drive/MyDrive/itc686_project/Flights_2022_4.csv\n",
            "drive/MyDrive/itc686_project/Flights_2021_4.csv   drive/MyDrive/itc686_project/Flights_2022_5.csv\n",
            "drive/MyDrive/itc686_project/Flights_2021_5.csv   drive/MyDrive/itc686_project/Flights_2022_6.csv\n",
            "drive/MyDrive/itc686_project/Flights_2021_6.csv   drive/MyDrive/itc686_project/Flights_2022_7.csv\n",
            "drive/MyDrive/itc686_project/Flights_2021_7.csv\n"
          ]
        }
      ],
      "source": [
        "!ls drive/MyDrive/itc686_project/Flights_202*\n"
      ]
    },
    {
      "cell_type": "code",
      "execution_count": 3,
      "metadata": {
        "colab": {
          "base_uri": "https://localhost:8080/"
        },
        "id": "9O4LpV6wPwRk",
        "outputId": "27da11f5-c6f6-44e0-8ac1-e71d79f2e01b"
      },
      "outputs": [
        {
          "output_type": "stream",
          "name": "stdout",
          "text": [
            "drive  sample_data\n"
          ]
        }
      ],
      "source": [
        "!ls"
      ]
    },
    {
      "cell_type": "code",
      "execution_count": 4,
      "metadata": {
        "colab": {
          "base_uri": "https://localhost:8080/"
        },
        "id": "v7hA0cNHktxm",
        "outputId": "f87cc065-2402-43ee-e863-ed40618276d2"
      },
      "outputs": [
        {
          "output_type": "stream",
          "name": "stdout",
          "text": [
            "Collecting pyspark\n",
            "  Downloading pyspark-3.5.1.tar.gz (317.0 MB)\n",
            "\u001b[2K     \u001b[90m━━━━━━━━━━━━━━━━━━━━━━━━━━━━━━━━━━━━━━━━\u001b[0m \u001b[32m317.0/317.0 MB\u001b[0m \u001b[31m3.5 MB/s\u001b[0m eta \u001b[36m0:00:00\u001b[0m\n",
            "\u001b[?25h  Preparing metadata (setup.py) ... \u001b[?25l\u001b[?25hdone\n",
            "Requirement already satisfied: py4j==0.10.9.7 in /usr/local/lib/python3.10/dist-packages (from pyspark) (0.10.9.7)\n",
            "Building wheels for collected packages: pyspark\n",
            "  Building wheel for pyspark (setup.py) ... \u001b[?25l\u001b[?25hdone\n",
            "  Created wheel for pyspark: filename=pyspark-3.5.1-py2.py3-none-any.whl size=317488491 sha256=80bbe32d6fa3f9ec96ab6fab9a978e723f37a76b9c1d726891bacf4f5280023a\n",
            "  Stored in directory: /root/.cache/pip/wheels/80/1d/60/2c256ed38dddce2fdd93be545214a63e02fbd8d74fb0b7f3a6\n",
            "Successfully built pyspark\n",
            "Installing collected packages: pyspark\n",
            "Successfully installed pyspark-3.5.1\n"
          ]
        }
      ],
      "source": [
        "!pip install pyspark"
      ]
    },
    {
      "cell_type": "code",
      "execution_count": 5,
      "metadata": {
        "colab": {
          "base_uri": "https://localhost:8080/"
        },
        "id": "3K--jnEwkxPV",
        "outputId": "2ac51bc4-78f0-4f41-cc2e-a11d5752f888"
      },
      "outputs": [
        {
          "output_type": "stream",
          "name": "stdout",
          "text": [
            "3.5.1\n"
          ]
        }
      ],
      "source": [
        "import pyspark\n",
        "print(pyspark.__version__)\n"
      ]
    },
    {
      "cell_type": "code",
      "execution_count": 6,
      "metadata": {
        "id": "70X6PypLkzou"
      },
      "outputs": [],
      "source": [
        "from pyspark.sql import SparkSession\n",
        "from pyspark.sql.types import *\n",
        "\n",
        "\n",
        "spark = SparkSession.builder \\\n",
        "    .appName(\"project\") \\\n",
        "    .config(\"spark.executor.memory\", \"4g\") \\\n",
        "    .config(\"spark.driver.memory\", \"2g\") \\\n",
        "    .config(\"spark.memory.fraction\", \"0.6\") \\\n",
        "    .config(\"spark.memory.storageFraction\", \"0.5\") \\\n",
        "    .config(\"spark.executor.extraJavaOptions\", \"-XX:+UseG1GC\") \\\n",
        "    .config(\"spark.driver.extraJavaOptions\", \"-XX:+UseG1GC\") \\\n",
        "    .master(\"local[4]\") \\\n",
        "    .getOrCreate()\n"
      ]
    },
    {
      "cell_type": "code",
      "execution_count": null,
      "metadata": {
        "id": "ZvvDjzshlDRY"
      },
      "outputs": [],
      "source": [
        "# spark.stop()   #for stoping the sql session"
      ]
    },
    {
      "cell_type": "code",
      "execution_count": 7,
      "metadata": {
        "id": "X34qQfuR-l3A"
      },
      "outputs": [],
      "source": [
        "\n",
        "from pyspark.sql.functions import col, when, count, mean, sum , isnan, lit,floor,round\n",
        "import matplotlib.pyplot as plt\n",
        "from pyspark.sql.functions import corr,avg,mean,stddev,rank,max,array, sort_array\n",
        "from pyspark.sql.types import *\n",
        "from pyspark.sql import Row\n",
        "import pandas as pd\n",
        "from scipy.stats import mannwhitneyu, wilcoxon\n",
        "from scipy import stats\n",
        "from pyspark.sql.window import Window\n",
        "import seaborn as sns\n",
        "import matplotlib.pyplot as plt"
      ]
    },
    {
      "cell_type": "code",
      "execution_count": 8,
      "metadata": {
        "id": "x1ektqEtP8R2"
      },
      "outputs": [],
      "source": [
        "\n",
        "df_all = spark.read.csv('/content/drive/MyDrive/itc686_project/Flights_202*', header=True)\n"
      ]
    },
    {
      "cell_type": "code",
      "execution_count": 9,
      "metadata": {
        "colab": {
          "base_uri": "https://localhost:8080/"
        },
        "id": "85WSKi-ufNXf",
        "outputId": "6066dee0-8a47-48e6-899f-69d210c75b6b"
      },
      "outputs": [
        {
          "output_type": "execute_result",
          "data": {
            "text/plain": [
              "10390189"
            ]
          },
          "metadata": {},
          "execution_count": 9
        }
      ],
      "source": [
        "df_all.count()       # initial number of records"
      ]
    },
    {
      "cell_type": "code",
      "execution_count": 10,
      "metadata": {
        "colab": {
          "base_uri": "https://localhost:8080/"
        },
        "id": "fdLbInMwftSY",
        "outputId": "29cf4257-d8b5-4403-9214-a7f7b941ffa8"
      },
      "outputs": [
        {
          "output_type": "execute_result",
          "data": {
            "text/plain": [
              "120"
            ]
          },
          "metadata": {},
          "execution_count": 10
        }
      ],
      "source": [
        "columns = df_all.columns\n",
        "len(columns)      # number of columns"
      ]
    },
    {
      "cell_type": "code",
      "execution_count": 11,
      "metadata": {
        "colab": {
          "base_uri": "https://localhost:8080/"
        },
        "id": "CsWn6hCTCL5v",
        "outputId": "c71af264-d867-40eb-97c9-f16fb946cecd"
      },
      "outputs": [
        {
          "output_type": "execute_result",
          "data": {
            "text/plain": [
              "30"
            ]
          },
          "metadata": {},
          "execution_count": 11
        }
      ],
      "source": [
        "df_selective = df_all['Year', 'Month', 'DayofMonth', 'DayOfWeek',\n",
        "            'DepTime', 'CRSDepTime', 'ArrTime', 'CRSArrTime',\n",
        "            'Marketing_Airline_Network', 'Flight_Number_Marketing_Airline',\n",
        "            'Tail_Number', 'ActualElapsedTime', 'CRSElapsedTime',\n",
        "            'AirTime', 'ArrDelay', 'DepDelay', 'Origin', 'Dest',\n",
        "            'Distance', 'TaxiIn', 'TaxiOut', 'Cancelled',\n",
        "            'CancellationCode','CarrierDelay',\n",
        "            'WeatherDelay', 'NASDelay', 'SecurityDelay',\n",
        "            'LateAircraftDelay','Operating_Airline ','DepDelayMinutes']\n",
        "selected = df_selective.columns\n",
        "len(selected)      # selected number of columns"
      ]
    },
    {
      "cell_type": "code",
      "execution_count": 12,
      "metadata": {
        "colab": {
          "base_uri": "https://localhost:8080/"
        },
        "id": "GrjjRgaq8bi1",
        "outputId": "b0dcd245-f306-4591-c9c5-27336ce8d983"
      },
      "outputs": [
        {
          "output_type": "stream",
          "name": "stdout",
          "text": [
            "root\n",
            " |-- Year: string (nullable = true)\n",
            " |-- Month: string (nullable = true)\n",
            " |-- DayofMonth: string (nullable = true)\n",
            " |-- DayOfWeek: string (nullable = true)\n",
            " |-- DepTime: string (nullable = true)\n",
            " |-- CRSDepTime: string (nullable = true)\n",
            " |-- ArrTime: string (nullable = true)\n",
            " |-- CRSArrTime: string (nullable = true)\n",
            " |-- Marketing_Airline_Network: string (nullable = true)\n",
            " |-- Flight_Number_Marketing_Airline: string (nullable = true)\n",
            " |-- Tail_Number: string (nullable = true)\n",
            " |-- ActualElapsedTime: string (nullable = true)\n",
            " |-- CRSElapsedTime: string (nullable = true)\n",
            " |-- AirTime: string (nullable = true)\n",
            " |-- ArrDelay: string (nullable = true)\n",
            " |-- DepDelay: string (nullable = true)\n",
            " |-- Origin: string (nullable = true)\n",
            " |-- Dest: string (nullable = true)\n",
            " |-- Distance: string (nullable = true)\n",
            " |-- TaxiIn: string (nullable = true)\n",
            " |-- TaxiOut: string (nullable = true)\n",
            " |-- Cancelled: string (nullable = true)\n",
            " |-- CancellationCode: string (nullable = true)\n",
            " |-- CarrierDelay: string (nullable = true)\n",
            " |-- WeatherDelay: string (nullable = true)\n",
            " |-- NASDelay: string (nullable = true)\n",
            " |-- SecurityDelay: string (nullable = true)\n",
            " |-- LateAircraftDelay: string (nullable = true)\n",
            " |-- Operating_Airline : string (nullable = true)\n",
            " |-- DepDelayMinutes: string (nullable = true)\n",
            "\n"
          ]
        }
      ],
      "source": [
        "df_selective.printSchema()    # initila schema"
      ]
    },
    {
      "cell_type": "code",
      "execution_count": 13,
      "metadata": {
        "id": "7OzEQs3VuE2F"
      },
      "outputs": [],
      "source": [
        "# changiing schema accordingly\n",
        "schema_types = {\n",
        "    \"Year\": IntegerType(),\n",
        "    \"Month\": IntegerType(),\n",
        "    \"DayofMonth\": IntegerType(),\n",
        "    \"DayOfWeek\": IntegerType(),\n",
        "    \"DepTime\": IntegerType(),\n",
        "    \"CRSDepTime\": IntegerType(),\n",
        "    \"ArrTime\": IntegerType(),\n",
        "    \"CRSArrTime\": IntegerType(),\n",
        "    \"Marketing_Airline_Network\": StringType(),\n",
        "    \"Flight_Number_Marketing_Airline\": IntegerType(),\n",
        "    \"Tail_Number\": StringType(),\n",
        "    \"ActualElapsedTime\": IntegerType(),\n",
        "    \"CRSElapsedTime\": IntegerType(),\n",
        "    \"AirTime\": IntegerType(),\n",
        "    \"ArrDelay\": IntegerType(),\n",
        "    \"DepDelay\": IntegerType(),\n",
        "    \"Origin\": StringType(),\n",
        "    \"Dest\": StringType(),\n",
        "    \"Distance\": IntegerType(),\n",
        "    \"TaxiIn\": IntegerType(),\n",
        "    \"TaxiOut\": IntegerType(),\n",
        "    \"Cancelled\": IntegerType(),\n",
        "    \"CancellationCode\": StringType(),\n",
        "    \"CarrierDelay\": IntegerType(),\n",
        "    \"WeatherDelay\": IntegerType(),\n",
        "    \"NASDelay\": IntegerType(),\n",
        "    \"SecurityDelay\": IntegerType(),\n",
        "    \"LateAircraftDelay\": IntegerType(),\n",
        "    'Operating_Airline ': StringType(),\n",
        "    'DepDelayMinutes':IntegerType()\n",
        "}\n",
        "\n",
        "for column, dtype in schema_types.items():\n",
        "    if isinstance(dtype, IntegerType):\n",
        "        df_selective = df_selective.withColumn(column, col(column).cast(\"int\"))\n"
      ]
    },
    {
      "cell_type": "code",
      "execution_count": 14,
      "metadata": {
        "colab": {
          "base_uri": "https://localhost:8080/"
        },
        "id": "T3rSJjJxMbk6",
        "outputId": "df0b7ecd-1d27-468b-b382-08c8555ffc06"
      },
      "outputs": [
        {
          "output_type": "stream",
          "name": "stdout",
          "text": [
            "root\n",
            " |-- Year: integer (nullable = true)\n",
            " |-- Month: integer (nullable = true)\n",
            " |-- DayofMonth: integer (nullable = true)\n",
            " |-- DayOfWeek: integer (nullable = true)\n",
            " |-- DepTime: integer (nullable = true)\n",
            " |-- CRSDepTime: integer (nullable = true)\n",
            " |-- ArrTime: integer (nullable = true)\n",
            " |-- CRSArrTime: integer (nullable = true)\n",
            " |-- Marketing_Airline_Network: string (nullable = true)\n",
            " |-- Flight_Number_Marketing_Airline: integer (nullable = true)\n",
            " |-- Tail_Number: string (nullable = true)\n",
            " |-- ActualElapsedTime: integer (nullable = true)\n",
            " |-- CRSElapsedTime: integer (nullable = true)\n",
            " |-- AirTime: integer (nullable = true)\n",
            " |-- ArrDelay: integer (nullable = true)\n",
            " |-- DepDelay: integer (nullable = true)\n",
            " |-- Origin: string (nullable = true)\n",
            " |-- Dest: string (nullable = true)\n",
            " |-- Distance: integer (nullable = true)\n",
            " |-- TaxiIn: integer (nullable = true)\n",
            " |-- TaxiOut: integer (nullable = true)\n",
            " |-- Cancelled: integer (nullable = true)\n",
            " |-- CancellationCode: string (nullable = true)\n",
            " |-- CarrierDelay: integer (nullable = true)\n",
            " |-- WeatherDelay: integer (nullable = true)\n",
            " |-- NASDelay: integer (nullable = true)\n",
            " |-- SecurityDelay: integer (nullable = true)\n",
            " |-- LateAircraftDelay: integer (nullable = true)\n",
            " |-- Operating_Airline : string (nullable = true)\n",
            " |-- DepDelayMinutes: integer (nullable = true)\n",
            "\n"
          ]
        }
      ],
      "source": [
        "df_selective.printSchema()   # changed the inital schma"
      ]
    },
    {
      "cell_type": "code",
      "execution_count": 15,
      "metadata": {
        "id": "_fapFp58grSE"
      },
      "outputs": [],
      "source": [
        "df_selective=df_selective.dropna(how='any',subset=['Tail_Number','Origin','Dest',\"DepDelay\", \"ArrDelay\",'AirTime']) # cleaning the data set by removing the records with useful columns null\n",
        "df_delay_pov = df_selective.filter((col('ArrDelay')>=0) & (col('DepDelay')>=0) )\n",
        "df_cancelled=df_all.filter((col('Cancelled') == 1) & ~col('CancellationCode').isNull()) # seggrigating the data set which are cancelled and have cancellation code"
      ]
    },
    {
      "cell_type": "code",
      "execution_count": 16,
      "metadata": {
        "colab": {
          "base_uri": "https://localhost:8080/"
        },
        "id": "5mVt1oFhFNF4",
        "outputId": "20a6a00a-65bc-486b-98d1-a0d47719fa48"
      },
      "outputs": [
        {
          "output_type": "execute_result",
          "data": {
            "text/plain": [
              "234210"
            ]
          },
          "metadata": {},
          "execution_count": 16
        }
      ],
      "source": [
        "df_cancelled.count()\n"
      ]
    },
    {
      "cell_type": "code",
      "execution_count": 17,
      "metadata": {
        "colab": {
          "base_uri": "https://localhost:8080/"
        },
        "id": "kMDJ3pP-hK4j",
        "outputId": "541a3221-89d6-47c1-926c-b877ccee3ded"
      },
      "outputs": [
        {
          "output_type": "execute_result",
          "data": {
            "text/plain": [
              "10130786"
            ]
          },
          "metadata": {},
          "execution_count": 17
        }
      ],
      "source": [
        "df_selective.count() # count after cleaning\n"
      ]
    },
    {
      "cell_type": "markdown",
      "metadata": {
        "id": "Dy2yGzjJDT-I"
      },
      "source": [
        "### **Hypothesis 1**"
      ]
    },
    {
      "cell_type": "code",
      "execution_count": 18,
      "metadata": {
        "id": "du8x1rw6oV8z"
      },
      "outputs": [],
      "source": [
        "data = df_delay_pov.select(\"DepDelay\", \"ArrDelay\").dropna().collect()\n"
      ]
    },
    {
      "cell_type": "code",
      "execution_count": 19,
      "metadata": {
        "id": "wnKaB2rJpRVa"
      },
      "outputs": [],
      "source": [
        "dep_delays = [row['DepDelay'] for row in data]\n",
        "arr_delays = [row['ArrDelay'] for row in data]\n"
      ]
    },
    {
      "cell_type": "code",
      "execution_count": 20,
      "metadata": {
        "colab": {
          "base_uri": "https://localhost:8080/",
          "height": 472
        },
        "id": "B9wfpoY0na8d",
        "outputId": "fdac30ce-2556-461d-86bf-3da71cc9f4b4"
      },
      "outputs": [
        {
          "output_type": "display_data",
          "data": {
            "text/plain": [
              "<Figure size 640x480 with 1 Axes>"
            ],
            "image/png": "[encoded data removed]"
          },
          "metadata": {}
        }
      ],
      "source": [
        "delay_threshold = 120  # setting threshold to 120 for better visuallization of the graph\n",
        "filtered_data = [(dep, arr) for dep, arr in data if dep < delay_threshold and arr < delay_threshold]\n",
        "\n",
        "dep_delays_filtered, arr_delays_filtered = zip(*filtered_data)\n",
        "\n",
        "# Plot\n",
        "plt.scatter(dep_delays_filtered, arr_delays_filtered, alpha=0.5)\n",
        "plt.scatter(dep_delays, arr_delays, alpha=0.5)\n",
        "plt.title('Departure Delay vs Arrival Delay')\n",
        "plt.xlabel('Departure Delay (minutes)')\n",
        "plt.ylabel('Arrival Delay (minutes)')\n",
        "plt.grid(True)\n",
        "plt.show()"
      ]
    },
    {
      "cell_type": "markdown",
      "metadata": {
        "id": "kkd7tXi-Dj3m"
      },
      "source": [
        "### **Hypothesis 2**"
      ]
    },
    {
      "cell_type": "code",
      "execution_count": 21,
      "metadata": {
        "colab": {
          "base_uri": "https://localhost:8080/"
        },
        "id": "6GLMx93xCAYC",
        "outputId": "286ae526-fe43-485d-81e2-f6d0bc9a9f36"
      },
      "outputs": [
        {
          "output_type": "stream",
          "name": "stdout",
          "text": [
            "+-------+-----------------+-----------------+-----------------+\n",
            "|summary|         DepDelay|         ArrDelay|          AirTime|\n",
            "+-------+-----------------+-----------------+-----------------+\n",
            "|  count|          2790057|          2790057|          2790057|\n",
            "|   mean|48.62752302193109|46.97123392102742|115.1301898133264|\n",
            "| stddev|84.32488065000165|84.14094003321325|69.02490938023189|\n",
            "|    min|                0|                0|                8|\n",
            "|    max|             7223|             7232|              687|\n",
            "+-------+-----------------+-----------------+-----------------+\n",
            "\n"
          ]
        }
      ],
      "source": [
        "# Summary of delays and Ait Time\n",
        "df_delay_pov.select(\"DepDelay\", \"ArrDelay\", \"AirTime\").summary(\"count\", \"mean\", \"stddev\", \"min\", \"max\").show()"
      ]
    },
    {
      "cell_type": "code",
      "execution_count": 22,
      "metadata": {
        "id": "F0h1efBiCC53"
      },
      "outputs": [],
      "source": [
        "arr_delay_data = df_delay_pov.select(\"ArrDelay\").rdd.flatMap(lambda x: x).collect()\n",
        "dep_delay_data = df_delay_pov.select(\"DepDelay\").rdd.flatMap(lambda x: x).collect()\n",
        "arr_data = df_delay_pov.select(\"AirTime\").rdd.flatMap(lambda x: x).collect()"
      ]
    },
    {
      "cell_type": "code",
      "execution_count": 23,
      "metadata": {
        "colab": {
          "base_uri": "https://localhost:8080/",
          "height": 1000
        },
        "id": "q4PmXhZoGcFh",
        "outputId": "6d965e08-692b-4746-e9e4-2683d8e47907"
      },
      "outputs": [
        {
          "output_type": "display_data",
          "data": {
            "text/plain": [
              "<Figure size 1200x600 with 1 Axes>"
            ],
            "image/png": "[encoded data removed]"
          },
          "metadata": {}
        },
        {
          "output_type": "display_data",
          "data": {
            "text/plain": [
              "<Figure size 1200x600 with 1 Axes>"
            ],
            "image/png": "[encoded data removed]"
          },
          "metadata": {}
        },
        {
          "output_type": "display_data",
          "data": {
            "text/plain": [
              "<Figure size 1200x600 with 1 Axes>"
            ],
            "image/png": "[encoded data removed]"
          },
          "metadata": {}
        }
      ],
      "source": [
        "sns.set(style=\"whitegrid\")\n",
        "\n",
        "# Plot\n",
        "plt.figure(figsize=(12, 6))\n",
        "sns.histplot(arr_delay_data, bins=500, kde=True, color='blue')\n",
        "plt.title('Histogram and Distribution Plot of Arrival Delays')\n",
        "plt.xlabel('Arrival Delay (minutes)')\n",
        "plt.ylabel('Frequency')\n",
        "plt.xlim(-50, 500)  # Set limits for x-axis\n",
        "plt.show()\n",
        "\n",
        "plt.figure(figsize=(12, 6))\n",
        "sns.histplot(dep_delay_data, bins=500, kde=True, color='blue')\n",
        "plt.title('Histogram and Distribution Plot of depart Delay')\n",
        "plt.xlabel('depart Delay (minutes)')\n",
        "plt.ylabel('Frequency')\n",
        "plt.xlim(-50, 500)  # Set limits for x-axis\n",
        "plt.show()\n",
        "\n",
        "plt.figure(figsize=(12, 6))\n",
        "sns.histplot(arr_data, bins=30, kde=True, color='blue')\n",
        "plt.title('Histogram and Distribution Plot of Air Time')\n",
        "plt.xlabel('Air Time (minutes)')\n",
        "plt.ylabel('Frequency')\n",
        "plt.xlim(-50, 500)  # Set limits for x-axis\n",
        "plt.show()"
      ]
    },
    {
      "cell_type": "markdown",
      "metadata": {
        "id": "EEMLq8yDDs8_"
      },
      "source": [
        "### **Hypothesis 3**"
      ]
    },
    {
      "cell_type": "code",
      "execution_count": 24,
      "metadata": {
        "colab": {
          "base_uri": "https://localhost:8080/"
        },
        "id": "VANsAbI5KkHK",
        "outputId": "0daf3c25-a617-4b1d-9c61-33a48e91e23f"
      },
      "outputs": [
        {
          "output_type": "stream",
          "name": "stdout",
          "text": [
            "[Row(CancellationCode='B', count=123118), Row(CancellationCode='D', count=2184), Row(CancellationCode='C', count=19690), Row(CancellationCode='A', count=89218)]\n"
          ]
        }
      ],
      "source": [
        "cancellation_counts_df = df_cancelled.groupBy(\"CancellationCode\").count().dropna().collect()\n",
        "print(cancellation_counts_df)\n"
      ]
    },
    {
      "cell_type": "code",
      "execution_count": 25,
      "metadata": {
        "colab": {
          "base_uri": "https://localhost:8080/",
          "height": 480
        },
        "id": "8Jyoqx2MM5uc",
        "outputId": "b6f2c223-a5d9-496f-ed77-094e8d9f2d91"
      },
      "outputs": [
        {
          "output_type": "display_data",
          "data": {
            "text/plain": [
              "<Figure size 640x480 with 1 Axes>"
            ],
            "image/png": "[encoded data removed]"
          },
          "metadata": {}
        }
      ],
      "source": [
        "code = [row['CancellationCode'] for row in cancellation_counts_df]\n",
        "count = [row['count'] for row in cancellation_counts_df]\n",
        "\n",
        "# A: Carrier-caused cancellation\n",
        "# B: Weather-related cancellation\n",
        "# C: National Aviation System (NAS)-related cancellation (e.g., non-weather-related airport issues, air traffic control issues, heavy airport traffic, etc.)\n",
        "# D: Security-related cancellation\n",
        "\n",
        "\n",
        "plt.bar(code, count)\n",
        "plt.title('Distribution of Flight Cancellation Reasons')\n",
        "plt.xlabel('Cancellation Code')\n",
        "plt.ylabel('Number of Flights')\n",
        "plt.show()"
      ]
    },
    {
      "cell_type": "markdown",
      "metadata": {
        "id": "pGfoDesIDyUB"
      },
      "source": [
        "### **Hypothesis 4**"
      ]
    },
    {
      "cell_type": "code",
      "execution_count": 26,
      "metadata": {
        "id": "izrXeNCkODvT"
      },
      "outputs": [],
      "source": [
        "airline_network_counts = df_selective.groupBy(\"Marketing_Airline_Network\").count()"
      ]
    },
    {
      "cell_type": "code",
      "execution_count": 27,
      "metadata": {
        "colab": {
          "base_uri": "https://localhost:8080/"
        },
        "id": "fcPGKBR0OD-F",
        "outputId": "519bbb66-0729-4fee-836e-89427f848b87"
      },
      "outputs": [
        {
          "output_type": "stream",
          "name": "stdout",
          "text": [
            "10130786\n"
          ]
        }
      ],
      "source": [
        "total_flights = airline_network_counts.groupBy().sum(\"count\").collect()[0][0]\n",
        "print(total_flights)\n",
        "threshold = 0.05 * total_flights\n",
        "\n",
        "airline_network_counts_filtered = airline_network_counts.filter(col(\"count\") >= threshold)\n",
        "\n",
        "other_flights_count = airline_network_counts.filter(col(\"count\") < threshold).groupBy().sum(\"count\").collect()[0][0]\n",
        "\n",
        "other_row = Row(\"Marketing_Airline_Network\", \"count\")(\"Other\", other_flights_count)\n",
        "other_df = spark.createDataFrame([other_row])\n",
        "\n",
        "final_airline_network_counts = airline_network_counts_filtered.union(other_df)\n"
      ]
    },
    {
      "cell_type": "code",
      "execution_count": 28,
      "metadata": {
        "colab": {
          "base_uri": "https://localhost:8080/",
          "height": 675
        },
        "id": "ucNoaGxhOEBZ",
        "outputId": "3f4c5f25-d6f9-4ebf-9867-c084fa42648d"
      },
      "outputs": [
        {
          "output_type": "display_data",
          "data": {
            "text/plain": [
              "<Figure size 800x800 with 1 Axes>"
            ],
            "image/png": "[encoded data removed]"
          },
          "metadata": {}
        }
      ],
      "source": [
        "airline_network_counts_pandas = final_airline_network_counts.toPandas().set_index(\"Marketing_Airline_Network\")\n",
        "full_forms = {\n",
        "    'UA': 'United Airlines',\n",
        "    'WN': 'Southwest Airlines',\n",
        "    'AS': 'Alaska Airlines',\n",
        "    'DL': 'Delta Air Lines',\n",
        "    'AA': 'American Airlines',\n",
        "    'Other': 'Other Airlines'\n",
        "}\n",
        "\n",
        "import matplotlib.pyplot as plt\n",
        "\n",
        "plt.figure(figsize=(8, 8))\n",
        "plt.pie(airline_network_counts_pandas['count'], labels=airline_network_counts_pandas.index, autopct='%1.1f%%', startangle=140)\n",
        "plt.title('Distribution of Flights Among Airline Networks')\n",
        "plt.legend([full_forms[label] for label in airline_network_counts_pandas.index], loc=\"lower right\", title=\"Airlines\")\n",
        "\n",
        "plt.show()\n"
      ]
    },
    {
      "cell_type": "markdown",
      "metadata": {
        "id": "c8dmApJoD929"
      },
      "source": [
        "### **Hypothesis 5**"
      ]
    },
    {
      "cell_type": "code",
      "execution_count": 29,
      "metadata": {
        "id": "ZqsGU4jqymmj"
      },
      "outputs": [],
      "source": [
        "day_of_week_counts = df_selective.groupBy(\"DayOfWeek\").count().orderBy(\"DayOfWeek\").collect()"
      ]
    },
    {
      "cell_type": "code",
      "execution_count": 30,
      "metadata": {
        "colab": {
          "base_uri": "https://localhost:8080/",
          "height": 554
        },
        "id": "aUTMB0wnynbm",
        "outputId": "3ef5bd70-cfae-477f-fc08-b7360534214e"
      },
      "outputs": [
        {
          "output_type": "display_data",
          "data": {
            "text/plain": [
              "<Figure size 640x480 with 1 Axes>"
            ],
            "image/png": "[encoded data removed]"
          },
          "metadata": {}
        }
      ],
      "source": [
        "# Prepare data for plotting\n",
        "days = [row['DayOfWeek'] for row in day_of_week_counts]\n",
        "counts = [row['count'] for row in day_of_week_counts]\n",
        "# Plotting a bar chart to visualize the distribution of flights across days of the week\n",
        "plt.bar(days, counts)\n",
        "plt.title('Distribution of Flights Across Days of the Week')\n",
        "plt.xlabel('Day of the Week')\n",
        "plt.ylabel('Number of Flights')\n",
        "plt.xticks(range(1, 8), ['Monday', 'Tuesday', 'Wednesday', 'Thursday', 'Friday', 'Saturday', 'Sunday'], rotation=90)\n",
        "plt.show()"
      ]
    },
    {
      "cell_type": "markdown",
      "metadata": {
        "id": "aNbPvg40D4GG"
      },
      "source": [
        "### **Hypothesis 6**"
      ]
    },
    {
      "cell_type": "code",
      "execution_count": 31,
      "metadata": {
        "id": "D3X16h3SOEHk"
      },
      "outputs": [],
      "source": [
        "y_cancelled = df_cancelled.filter((col('CancellationCode') == 'A')).groupBy(\"Marketing_Airline_Network\", \"Operating_Airline \").count()\n"
      ]
    },
    {
      "cell_type": "code",
      "execution_count": 32,
      "metadata": {
        "id": "EPbPyrQyTz5g"
      },
      "outputs": [],
      "source": [
        "\n",
        "diff= y_cancelled.filter((col('Marketing_Airline_Network')!=col('Operating_Airline '))).groupBy(col('Marketing_Airline_Network')).agg({'count': 'sum'}).withColumnRenamed(\"sum(count)\", \"diff\")\n",
        "same= y_cancelled.filter(col('Marketing_Airline_Network')==col('Operating_Airline ')).groupBy(col('Marketing_Airline_Network')).agg({'count': 'sum'}).withColumnRenamed(\"sum(count)\", \"same\")\n"
      ]
    },
    {
      "cell_type": "code",
      "execution_count": 33,
      "metadata": {
        "id": "zzATYidifSPM"
      },
      "outputs": [],
      "source": [
        "same_diff= same.join(diff,on='Marketing_Airline_Network',how=\"inner\").collect()"
      ]
    },
    {
      "cell_type": "code",
      "execution_count": 34,
      "metadata": {
        "colab": {
          "base_uri": "https://localhost:8080/"
        },
        "id": "3ml28qcK63YI",
        "outputId": "937119b6-2610-48bf-b430-baeaac98fca4"
      },
      "outputs": [
        {
          "output_type": "stream",
          "name": "stdout",
          "text": [
            "[Row(Marketing_Airline_Network='UA', same=6621, diff=7228), Row(Marketing_Airline_Network='AA', same=15252, diff=6147), Row(Marketing_Airline_Network='DL', same=8647, diff=4014), Row(Marketing_Airline_Network='AS', same=5639, diff=2319)]\n"
          ]
        }
      ],
      "source": [
        "print(same_diff)"
      ]
    },
    {
      "cell_type": "code",
      "execution_count": 35,
      "metadata": {
        "colab": {
          "base_uri": "https://localhost:8080/",
          "height": 480
        },
        "id": "nRPc9iqJ16KU",
        "outputId": "98e512e3-5aec-482a-f059-cfad46b1ac86"
      },
      "outputs": [
        {
          "output_type": "display_data",
          "data": {
            "text/plain": [
              "<Figure size 640x480 with 1 Axes>"
            ],
            "image/png": "[encoded data removed]"
          },
          "metadata": {}
        }
      ],
      "source": [
        "import numpy as np\n",
        "airlines = [row['Marketing_Airline_Network'] for row in same_diff]\n",
        "same = [row['same'] for row in same_diff]\n",
        "diff = [row['diff'] for row in same_diff]\n",
        "\n",
        "# Data for stacked area chart\n",
        "y = np.vstack([same, diff])\n",
        "\n",
        "fig, ax = plt.subplots()\n",
        "ax.stackplot(airlines, y, labels=['Same', 'Different'], colors=['b', 'r'])\n",
        "ax.legend(loc='upper right')\n",
        "ax.set_title('Stacked Area Chart of Airline Operations')\n",
        "ax.set_xlabel('Marketing Airline Network')\n",
        "ax.set_ylabel('Counts')\n",
        "\n",
        "plt.show()"
      ]
    },
    {
      "cell_type": "code",
      "execution_count": 36,
      "metadata": {
        "colab": {
          "base_uri": "https://localhost:8080/"
        },
        "id": "Jexttvc_8Tca",
        "outputId": "d242fc80-a0de-41b3-8f86-100c4e6cb8cf"
      },
      "outputs": [
        {
          "output_type": "stream",
          "name": "stdout",
          "text": [
            "T-statistic: 2.054285127110934\n",
            "P-value: 0.13221886943997072\n"
          ]
        }
      ],
      "source": [
        "t_statistic, p_value = stats.ttest_rel(same, diff)\n",
        "\n",
        "print(\"T-statistic:\", t_statistic)\n",
        "print(\"P-value:\", p_value)\n"
      ]
    },
    {
      "cell_type": "code",
      "execution_count": 37,
      "metadata": {
        "id": "81gSqCZFkApI"
      },
      "outputs": [],
      "source": [
        "columns = [\"Marketing_Airline_Network\", \"same\", \"diff\"]\n",
        "df = spark.createDataFrame(same_diff)\n",
        "\n",
        "df = df.toPandas()\n",
        "\n"
      ]
    },
    {
      "cell_type": "code",
      "execution_count": 38,
      "metadata": {
        "colab": {
          "base_uri": "https://localhost:8080/"
        },
        "id": "Jrt2E_vcMhgb",
        "outputId": "e95400b8-1b36-44ff-9f69-43360291ac92"
      },
      "outputs": [
        {
          "output_type": "stream",
          "name": "stdout",
          "text": [
            "Wilcoxon Signed-Rank Test: Stat=1.0, P-value=0.25\n"
          ]
        }
      ],
      "source": [
        "# Wilcoxon Signed-Rank Test for paired samples\n",
        "# Note: Only use this test if the samples are indeed paired.\n",
        "stat, p_value = wilcoxon(df['same'], df['diff'])\n",
        "print(f\"Wilcoxon Signed-Rank Test: Stat={stat}, P-value={p_value}\")"
      ]
    },
    {
      "cell_type": "markdown",
      "metadata": {
        "id": "GHR2k4KZEFUn"
      },
      "source": [
        "### **query 1**"
      ]
    },
    {
      "cell_type": "code",
      "execution_count": 39,
      "metadata": {
        "id": "D-JxfD79afJU"
      },
      "outputs": [],
      "source": [
        "freq_dest=df_selective.groupBy(\"Dest\").count().orderBy(col('count').desc())\n"
      ]
    },
    {
      "cell_type": "code",
      "execution_count": 40,
      "metadata": {
        "colab": {
          "base_uri": "https://localhost:8080/"
        },
        "id": "gYhrK96kamfG",
        "outputId": "342458bb-532c-46e9-ee24-819f241ba253"
      },
      "outputs": [
        {
          "output_type": "stream",
          "name": "stdout",
          "text": [
            "+----+------+\n",
            "|Dest| count|\n",
            "+----+------+\n",
            "| ATL|490479|\n",
            "| ORD|444565|\n",
            "| DFW|424852|\n",
            "| DEN|414088|\n",
            "| CLT|344266|\n",
            "+----+------+\n",
            "only showing top 5 rows\n",
            "\n"
          ]
        }
      ],
      "source": [
        "freq_dest.show(5)"
      ]
    },
    {
      "cell_type": "markdown",
      "metadata": {
        "id": "0cSEOEkXGbxs"
      },
      "source": [
        "### **query 2**"
      ]
    },
    {
      "cell_type": "code",
      "execution_count": 41,
      "metadata": {
        "colab": {
          "base_uri": "https://localhost:8080/"
        },
        "id": "XIviI3KMqTku",
        "outputId": "5f6f2215-9f9c-4c77-8414-a375bf0d20f7"
      },
      "outputs": [
        {
          "output_type": "stream",
          "name": "stdout",
          "text": [
            "Number of distinct routes: 3655\n"
          ]
        }
      ],
      "source": [
        "df_sorted = df_selective.withColumn(\"SortedPair\", sort_array(array(\"Origin\", \"Dest\")))\n",
        "distinct_count = df_sorted.select(\"SortedPair\").distinct()\n",
        "print(\"Number of distinct routes:\", distinct_count.count())"
      ]
    },
    {
      "cell_type": "code",
      "execution_count": 42,
      "metadata": {
        "colab": {
          "base_uri": "https://localhost:8080/"
        },
        "id": "UP9yZe0Y0ImA",
        "outputId": "7ed300cc-d855-435d-eddd-bdc5c2cc2bca"
      },
      "outputs": [
        {
          "output_type": "stream",
          "name": "stdout",
          "text": [
            "+----------+\n",
            "|SortedPair|\n",
            "+----------+\n",
            "|[ATL, GSP]|\n",
            "|[ORD, PDX]|\n",
            "|[DSM, MCO]|\n",
            "|[EWR, STT]|\n",
            "|[JFK, ORD]|\n",
            "+----------+\n",
            "only showing top 5 rows\n",
            "\n"
          ]
        }
      ],
      "source": [
        "distinct_count.show(5)"
      ]
    },
    {
      "cell_type": "code",
      "execution_count": 43,
      "metadata": {
        "colab": {
          "base_uri": "https://localhost:8080/"
        },
        "id": "heLLARIfXQZ6",
        "outputId": "037ffb86-6bdc-4fa4-fbd0-93fb71fc39b5"
      },
      "outputs": [
        {
          "output_type": "stream",
          "name": "stdout",
          "text": [
            "+------------------+\n",
            "|       correlation|\n",
            "+------------------+\n",
            "|0.9834142728173235|\n",
            "+------------------+\n",
            "\n"
          ]
        }
      ],
      "source": [
        "\n",
        "# Compute Pearson correlation coefficient for statistical evidance to support the relation between the \"DepDelay\" and \"ArrDelay\"\n",
        "correlation_df = df_delay_pov.select(corr(\"DepDelay\", \"ArrDelay\").alias(\"correlation\"))\n",
        "correlation_df.show()\n"
      ]
    },
    {
      "cell_type": "markdown",
      "metadata": {
        "id": "LcIQMF4_HsvX"
      },
      "source": [
        "### **query 3**"
      ]
    },
    {
      "cell_type": "code",
      "execution_count": 44,
      "metadata": {
        "colab": {
          "base_uri": "https://localhost:8080/"
        },
        "id": "P6FYS9FNkHYb",
        "outputId": "3293de91-3481-4619-8547-4246031b8c61"
      },
      "outputs": [
        {
          "output_type": "stream",
          "name": "stdout",
          "text": [
            "Number of distinct routes: 3381\n"
          ]
        }
      ],
      "source": [
        "from pyspark.sql.functions import array, col, lit, sort_array\n",
        "\n",
        "df_sorted = df_cancelled.withColumn(\"SortedPair_c\", sort_array(array(\"Origin\", \"Dest\")))    # identyfying\n",
        "distinct_cancel_count = df_sorted.select(\"SortedPair_c\").distinct()\n",
        "print(\"Number of distinct routes:\", distinct_cancel_count.count())\n"
      ]
    },
    {
      "cell_type": "code",
      "execution_count": 45,
      "metadata": {
        "colab": {
          "base_uri": "https://localhost:8080/"
        },
        "id": "KAjzJBlzz8z6",
        "outputId": "f0fdad22-9bd8-4862-a4fe-75e8576a666f"
      },
      "outputs": [
        {
          "output_type": "stream",
          "name": "stdout",
          "text": [
            "+------------+\n",
            "|SortedPair_c|\n",
            "+------------+\n",
            "|  [ORD, PDX]|\n",
            "|  [BMI, MCO]|\n",
            "|  [AZA, MOT]|\n",
            "|  [LAX, SUN]|\n",
            "|  [SFO, TUS]|\n",
            "+------------+\n",
            "only showing top 5 rows\n",
            "\n"
          ]
        }
      ],
      "source": [
        "distinct_cancel_count.show(5)"
      ]
    },
    {
      "cell_type": "code",
      "execution_count": 46,
      "metadata": {
        "id": "wdzJK_r_unHc",
        "colab": {
          "base_uri": "https://localhost:8080/"
        },
        "outputId": "830fec23-3073-4279-a85e-e7d3925ca2be"
      },
      "outputs": [
        {
          "output_type": "stream",
          "name": "stdout",
          "text": [
            "+----------+\n",
            "|SortedPair|\n",
            "+----------+\n",
            "|[FLL, HDN]|\n",
            "|[MSP, TUS]|\n",
            "|[FSD, PIE]|\n",
            "|[ROA, TYS]|\n",
            "|[ALB, BDL]|\n",
            "|[CLT, MTJ]|\n",
            "|[BMI, DEN]|\n",
            "|[ANC, KOA]|\n",
            "|[MSP, STT]|\n",
            "|[LAX, TWF]|\n",
            "|[PIR, RAP]|\n",
            "|[HDN, SAN]|\n",
            "|[DTW, SJU]|\n",
            "|[DTW, EVV]|\n",
            "|[LAX, PSP]|\n",
            "|[BZN, PSC]|\n",
            "|[HNL, MKK]|\n",
            "|[HNL, LNY]|\n",
            "|[OMA, PIE]|\n",
            "|[SFO, TWF]|\n",
            "+----------+\n",
            "only showing top 20 rows\n",
            "\n"
          ]
        }
      ],
      "source": [
        "unique_df_cancelled = distinct_count.join(\n",
        "    distinct_cancel_count,\n",
        "    on=distinct_count[\"SortedPair\"] == distinct_cancel_count[\"SortedPair_c\"],\n",
        "    how=\"left_anti\"\n",
        ")\n",
        "result_df = unique_df_cancelled.select(distinct_count[\"SortedPair\"])\n",
        "result_df.show()"
      ]
    },
    {
      "cell_type": "code",
      "execution_count": 47,
      "metadata": {
        "colab": {
          "base_uri": "https://localhost:8080/"
        },
        "id": "KKG5uqrv59xO",
        "outputId": "62d3c45d-f440-4bd4-9cbe-7d89b89c8bf5"
      },
      "outputs": [
        {
          "output_type": "execute_result",
          "data": {
            "text/plain": [
              "276"
            ]
          },
          "metadata": {},
          "execution_count": 47
        }
      ],
      "source": [
        "result_df.count()"
      ]
    },
    {
      "cell_type": "markdown",
      "metadata": {
        "id": "vhXF85g0EOYl"
      },
      "source": [
        "### **query 4**"
      ]
    },
    {
      "cell_type": "code",
      "execution_count": 48,
      "metadata": {
        "id": "RrRpveIFZ7K1",
        "colab": {
          "base_uri": "https://localhost:8080/"
        },
        "outputId": "a8d2cee6-3967-4c3b-c248-510b1c36a03e"
      },
      "outputs": [
        {
          "output_type": "execute_result",
          "data": {
            "text/plain": [
              "10130786"
            ]
          },
          "metadata": {},
          "execution_count": 48
        }
      ],
      "source": [
        "df_selective.filter(\n",
        "    (col(\"ActualElapsedTime\").isNotNull()) &\n",
        "    (col(\"CRSElapsedTime\").isNotNull())).count()"
      ]
    },
    {
      "cell_type": "code",
      "execution_count": 49,
      "metadata": {
        "id": "ALyRM9fWx-2s"
      },
      "outputs": [],
      "source": [
        "result_df = df_selective.groupBy(\"Origin\", \"Dest\")\\\n",
        ".agg(round(avg(col(\"CRSElapsedTime\")/col(\"ActualElapsedTime\")), 1).alias(\"EfficiencyRatio\"))\\\n",
        ".filter(col(\"EfficiencyRatio\") > 0)"
      ]
    },
    {
      "cell_type": "code",
      "execution_count": 50,
      "metadata": {
        "id": "FoL-RlrLcJXI",
        "colab": {
          "base_uri": "https://localhost:8080/"
        },
        "outputId": "4c36fe41-6a16-43cf-8d57-bead51f378d8"
      },
      "outputs": [
        {
          "output_type": "stream",
          "name": "stdout",
          "text": [
            "+------+----+---------------+\n",
            "|Origin|Dest|EfficiencyRatio|\n",
            "+------+----+---------------+\n",
            "|   JST| IAD|            1.8|\n",
            "|   LNK| LAN|            1.6|\n",
            "|   BTR| BHM|            1.5|\n",
            "|   IAH| VCT|            1.5|\n",
            "|   EYW| MCO|            1.4|\n",
            "+------+----+---------------+\n",
            "only showing top 5 rows\n",
            "\n"
          ]
        }
      ],
      "source": [
        "result_df.orderBy(col(\"EfficiencyRatio\").desc()).show(5)"
      ]
    },
    {
      "cell_type": "code",
      "execution_count": 51,
      "metadata": {
        "id": "YZCnlTL_cN-X",
        "colab": {
          "base_uri": "https://localhost:8080/"
        },
        "outputId": "69a4207e-1c8e-4b30-c009-f6c020b1604f"
      },
      "outputs": [
        {
          "output_type": "stream",
          "name": "stdout",
          "text": [
            "+------+----+---------------+\n",
            "|Origin|Dest|EfficiencyRatio|\n",
            "+------+----+---------------+\n",
            "|   RAP| PIR|            0.5|\n",
            "|   STL| BMI|            0.5|\n",
            "|   AUS| MFE|            0.6|\n",
            "|   IDA| BZN|            0.6|\n",
            "|   CVG| ROA|            0.7|\n",
            "+------+----+---------------+\n",
            "only showing top 5 rows\n",
            "\n"
          ]
        }
      ],
      "source": [
        "result_df.orderBy(col(\"EfficiencyRatio\").asc()).show(5)"
      ]
    },
    {
      "cell_type": "markdown",
      "metadata": {
        "id": "eQZ5TjoKFDB_"
      },
      "source": [
        "### **query 5**"
      ]
    },
    {
      "cell_type": "code",
      "execution_count": 53,
      "metadata": {
        "id": "hH8eN4K8s0hH",
        "colab": {
          "base_uri": "https://localhost:8080/"
        },
        "outputId": "0cc69dbf-9161-4b3b-802c-1d81a6f9e468"
      },
      "outputs": [
        {
          "output_type": "stream",
          "name": "stdout",
          "text": [
            "+------+---------------+--------------+---------------------+\n",
            "|Origin|TotalDepartures|AvgTaxiOutTime|TaxiOutEfficiencyRank|\n",
            "+------+---------------+--------------+---------------------+\n",
            "|   MKK|             28|           3.1|                    1|\n",
            "|   LNY|             28|           3.8|                    2|\n",
            "|   OWB|            155|           6.2|                    3|\n",
            "|   YKM|           1148|           6.5|                    4|\n",
            "|   ALW|           1144|           6.9|                    5|\n",
            "|   AKN|            714|           7.5|                    6|\n",
            "|   EAT|           1207|           8.1|                    7|\n",
            "|   DLG|            669|           8.2|                    8|\n",
            "|   PUW|           1662|           8.3|                    9|\n",
            "|   OTZ|            969|           8.3|                    9|\n",
            "|   WRG|           1120|           8.6|                   11|\n",
            "|   SMX|            394|           8.6|                   11|\n",
            "|   OGD|            124|           8.9|                   13|\n",
            "|   BRW|            551|           9.0|                   14|\n",
            "|   ITO|           8378|           9.2|                   15|\n",
            "|   BET|           1092|           9.4|                   16|\n",
            "|   HYA|            176|           9.4|                   16|\n",
            "|   INL|            943|           9.7|                   18|\n",
            "|   SCK|            997|           9.7|                   18|\n",
            "|   LIH|          19736|           9.8|                   20|\n",
            "+------+---------------+--------------+---------------------+\n",
            "only showing top 20 rows\n",
            "\n"
          ]
        }
      ],
      "source": [
        "from pyspark.sql import functions as F\n",
        "\n",
        "result_df = df_selective.groupBy(\"Origin\").agg(\n",
        "    F.count(\"*\").alias(\"TotalDepartures\"),\n",
        "    F.round(F.avg(\"TaxiOut\"), 1).alias(\"AvgTaxiOutTime\")\n",
        ")\n",
        "\n",
        "windowSpec = Window.orderBy(col(\"AvgTaxiOutTime\").asc())\n",
        "\n",
        "result_df = result_df.withColumn(\"TaxiOutEfficiencyRank\", rank().over(windowSpec))\\\n",
        "            .orderBy(col(\"TaxiOutEfficiencyRank\").asc()).show()\n"
      ]
    },
    {
      "cell_type": "markdown",
      "metadata": {
        "id": "hD44pCB9E2Zi"
      },
      "source": [
        "### **query 6**"
      ]
    },
    {
      "cell_type": "code",
      "execution_count": 54,
      "metadata": {
        "id": "dPzH_C-Omyuf"
      },
      "outputs": [],
      "source": [
        "origin_delays = df_delay_pov.select(\n",
        "    col(\"Origin\").alias(\"Airport\"),\n",
        "    \"CarrierDelay\",\"WeatherDelay\",\n",
        "    \"NASDelay\",\"SecurityDelay\",\n",
        "    \"LateAircraftDelay\")\n",
        "\n",
        "dest_delays = df_delay_pov.select(\n",
        "    col(\"Dest\").alias(\"Airport\"),\n",
        "    \"CarrierDelay\",\"WeatherDelay\",\n",
        "    \"NASDelay\",\"SecurityDelay\",\n",
        "    \"LateAircraftDelay\")\n",
        "\n",
        "airport_delays = origin_delays.unionAll(dest_delays)"
      ]
    },
    {
      "cell_type": "code",
      "execution_count": 55,
      "metadata": {
        "id": "eDKm6qkepOsT"
      },
      "outputs": [],
      "source": [
        "avg_delays = airport_delays.groupBy(\"Airport\").agg(\n",
        "    round(avg(when(col(\"CarrierDelay\") > 0, col(\"CarrierDelay\")))).alias(\"AvgCarrierDelay\"),\n",
        "    round(avg(when(col(\"WeatherDelay\") > 0, col(\"WeatherDelay\")))).alias(\"AvgWeatherDelay\"),\n",
        "    round(avg(when(col(\"NASDelay\") > 0, col(\"NASDelay\")))).alias(\"AvgNASDelay\"),\n",
        "    round(avg(when(col(\"SecurityDelay\") > 0, col(\"SecurityDelay\")))).alias(\"AvgSecurityDelay\"),\n",
        "    round(avg(when(col(\"LateAircraftDelay\") > 0, col(\"LateAircraftDelay\")))).alias(\"AvgLateAircraftDelay\"))\n"
      ]
    },
    {
      "cell_type": "code",
      "execution_count": 56,
      "metadata": {
        "id": "nTH6dIvVpW05",
        "colab": {
          "base_uri": "https://localhost:8080/"
        },
        "outputId": "9ca02778-d43f-40c7-956a-95b56032b274"
      },
      "outputs": [
        {
          "output_type": "stream",
          "name": "stdout",
          "text": [
            "+-------+---------------+---------------+-----------+----------------+--------------------+\n",
            "|Airport|AvgCarrierDelay|AvgWeatherDelay|AvgNASDelay|AvgSecurityDelay|AvgLateAircraftDelay|\n",
            "+-------+---------------+---------------+-----------+----------------+--------------------+\n",
            "|    BGM|          113.0|          164.0|       16.0|            NULL|                64.0|\n",
            "|    INL|          160.0|          271.0|       88.0|            20.0|                NULL|\n",
            "|    DLG|           40.0|           38.0|       12.0|            24.0|                50.0|\n",
            "|    MSY|           35.0|           56.0|       23.0|            28.0|                49.0|\n",
            "|    GEG|           45.0|           68.0|       16.0|            32.0|                45.0|\n",
            "|    DRT|           70.0|           83.0|       21.0|            NULL|                60.0|\n",
            "|    SNA|           31.0|           67.0|       19.0|            35.0|                38.0|\n",
            "|    BUR|           31.0|           69.0|       19.0|            27.0|                41.0|\n",
            "|    GRB|           66.0|           75.0|       28.0|            31.0|                67.0|\n",
            "|    GTF|           90.0|           83.0|       25.0|             8.0|                62.0|\n",
            "|    IDA|           80.0|           86.0|       30.0|            34.0|                78.0|\n",
            "|    GRR|           54.0|           69.0|       24.0|            30.0|                57.0|\n",
            "|    LWB|          140.0|          105.0|      170.0|            NULL|               112.0|\n",
            "|    PVU|           31.0|           34.0|       16.0|            15.0|                42.0|\n",
            "|    JLN|          102.0|          157.0|      112.0|            NULL|                95.0|\n",
            "|    PSG|           36.0|           18.0|       13.0|             9.0|                64.0|\n",
            "|    EUG|           59.0|           80.0|       17.0|            26.0|                59.0|\n",
            "|    ATY|          144.0|          128.0|      111.0|            NULL|                76.0|\n",
            "|    MYR|           40.0|           59.0|       27.0|            18.0|                56.0|\n",
            "|    GSO|           47.0|           55.0|       27.0|            26.0|                59.0|\n",
            "+-------+---------------+---------------+-----------+----------------+--------------------+\n",
            "only showing top 20 rows\n",
            "\n"
          ]
        }
      ],
      "source": [
        "avg_delays.show()"
      ]
    },
    {
      "cell_type": "markdown",
      "metadata": {
        "id": "9DqDJW-bEefm"
      },
      "source": [
        "### **query 7**"
      ]
    },
    {
      "cell_type": "code",
      "execution_count": 60,
      "metadata": {
        "id": "B1EAcnemekPz",
        "colab": {
          "base_uri": "https://localhost:8080/"
        },
        "outputId": "25186ece-fe12-49c5-ca2a-2be0ab814727"
      },
      "outputs": [
        {
          "output_type": "stream",
          "name": "stdout",
          "text": [
            "+----------------+--------------+-----------------+\n",
            "|Origin_selective|Dest_selective|Operating_Airline|\n",
            "+----------------+--------------+-----------------+\n",
            "|             CLT|           RDU|               AA|\n",
            "|             ABQ|           ATL|               DL|\n",
            "|             CMH|           MCO|               F9|\n",
            "|             CLT|           RDU|               OH|\n",
            "|             LEX|           MIA|               MQ|\n",
            "|             ATL|           BOS|               DL|\n",
            "|             EVV|           SFB|               G4|\n",
            "|             PHL|           SJU|               NK|\n",
            "|             OMA|           CLT|               OH|\n",
            "|             LAX|           FAT|               OO|\n",
            "|             CWA|           DTW|               9E|\n",
            "|             TYS|           ROA|               G4|\n",
            "|             CLT|           PHF|               OH|\n",
            "|             ORD|           MSP|               MQ|\n",
            "|             EWR|           STT|               UA|\n",
            "|             CID|           LAS|               G4|\n",
            "|             PDX|           GEG|               QX|\n",
            "|             ATL|           ORF|               DL|\n",
            "|             BIS|           MSP|               OO|\n",
            "|             DTW|           MDT|               9E|\n",
            "+----------------+--------------+-----------------+\n",
            "only showing top 20 rows\n",
            "\n"
          ]
        }
      ],
      "source": [
        "from pyspark.sql.functions import col, max ,min\n",
        "\n",
        "\n",
        "\n",
        "result_df = df_selective.groupBy(\"Origin\", \"Dest\").agg(\n",
        "    min(col(\"AirTime\")).alias(\"MaxAirTime\"))\n",
        "\n",
        "df_selective = df_selective.withColumnRenamed(\"Origin\", \"Origin_selective\")\n",
        "df_selective = df_selective.withColumnRenamed(\"Dest\", \"Dest_selective\")\n",
        "df_selective = df_selective.withColumnRenamed(\"Operating_Airline \", \"Operating_Airline\")\n",
        "\n",
        "joined_df = result_df.join(\n",
        "    df_selective,\n",
        "    (result_df.Origin == df_selective.Origin_selective) &\n",
        "    (result_df.Dest == df_selective.Dest_selective) &\n",
        "    (result_df.MaxAirTime == df_selective.AirTime),\n",
        "    how=\"inner\")\n",
        "\n",
        "joined_df.select(\n",
        "    df_selective.Origin_selective, df_selective.Dest_selective,\n",
        "    df_selective.Operating_Airline).show()\n",
        "\n",
        "df_selective = df_selective.withColumnRenamed(\"Origin_selective\",\"Origin\")\n",
        "df_selective = df_selective.withColumnRenamed(\"Dest_selective\",\"Dest\")\n",
        "df_selective = df_selective.withColumnRenamed(\"Operating_Airline\",\"Operating_Airline \")"
      ]
    },
    {
      "cell_type": "code",
      "execution_count": 61,
      "metadata": {
        "id": "VEnnyAX_1UjO",
        "colab": {
          "base_uri": "https://localhost:8080/"
        },
        "outputId": "c8dc3518-af77-40d1-c902-3c6e725c9e7b"
      },
      "outputs": [
        {
          "output_type": "stream",
          "name": "stdout",
          "text": [
            "+------+----+-----------+\n",
            "|Origin|Dest|Min_AirTime|\n",
            "+------+----+-----------+\n",
            "|   ATL| GSP|         23|\n",
            "|   ORD| PDX|        205|\n",
            "|   PHL| MCO|         99|\n",
            "|   SNA| PHX|         43|\n",
            "|   PBI| DCA|         98|\n",
            "|   HDN| FLL|        196|\n",
            "|   DSM| MCO|        123|\n",
            "|   TPA| ACY|         99|\n",
            "|   MCI| IAH|         83|\n",
            "|   SHR| DEN|         34|\n",
            "|   LBB| DEN|         61|\n",
            "|   EWR| STT|        181|\n",
            "|   CAE| ATL|         30|\n",
            "|   TPA| CVG|         92|\n",
            "|   JFK| ORD|         92|\n",
            "|   RIC| LAS|        249|\n",
            "|   PSP| JFK|        227|\n",
            "|   RDU| SLC|        221|\n",
            "|   BMI| MCO|        103|\n",
            "|   BTV| MCO|        143|\n",
            "+------+----+-----------+\n",
            "only showing top 20 rows\n",
            "\n"
          ]
        }
      ],
      "source": [
        "df_selective.select('Origin','Dest','Operating_Airline ','AirTime').groupBy(\"Origin\", \"Dest\")\\\n",
        ".agg(min(col(\"AirTime\")).alias(\"Min_AirTime\")).show()"
      ]
    },
    {
      "cell_type": "markdown",
      "metadata": {
        "id": "2SrkLetwFSXJ"
      },
      "source": [
        "### **query 8**"
      ]
    },
    {
      "cell_type": "code",
      "execution_count": 66,
      "metadata": {
        "id": "JA9ExK0htMHn",
        "colab": {
          "base_uri": "https://localhost:8080/"
        },
        "outputId": "2fab92ec-f2b8-40b0-e944-def8e24619fc"
      },
      "outputs": [
        {
          "output_type": "stream",
          "name": "stdout",
          "text": [
            "+-------------------------+------+------------------+\n",
            "|Marketing_Airline_Network|Origin|        OnTimeRate|\n",
            "+-------------------------+------+------------------+\n",
            "|                       DL|   ABE|0.8993783993783994|\n",
            "|                       UA|   ABI|0.8946135831381733|\n",
            "|                       DL|   ABQ|0.8998699609882965|\n",
            "|                       DL|   ABR|0.8751076658053403|\n",
            "|                       DL|   ABY|0.8959501557632399|\n",
            "|                       AA|   ACK|0.8349056603773585|\n",
            "|                       AA|   ACT| 0.867193675889328|\n",
            "|                       AA|   ACV|0.8787878787878788|\n",
            "|                       NK|   ACY|0.8049478634226129|\n",
            "|                       AS|   ADK|0.5657894736842105|\n",
            "|                       AS|   ADQ|0.8640636297903109|\n",
            "|                       DL|   AEX|0.9049429657794676|\n",
            "|                       DL|   AGS|0.9140732580556321|\n",
            "|                       AS|   AKN|0.7338935574229691|\n",
            "|                       DL|   ALB|0.8638838475499092|\n",
            "|                       AA|   ALO| 0.882921589688507|\n",
            "|                       UA|   ALS|0.9129411764705883|\n",
            "|                       AS|   ALW|0.8959790209790209|\n",
            "|                       WN|   AMA|0.8064091308165057|\n",
            "|                       DL|   ANC|0.8863961813842482|\n",
            "+-------------------------+------+------------------+\n",
            "only showing top 20 rows\n",
            "\n"
          ]
        }
      ],
      "source": [
        "airline_performance = df_selective.groupBy(\"Marketing_Airline_Network\", \"Origin\").agg(\n",
        "    F.count(\"*\").alias(\"TotalFlights\"),\n",
        "    (F.sum(F.when(F.col(\"ArrDelay\") <= 15, 1).otherwise(0)) / F.count(\"*\")).alias(\"OnTimeRate\")\n",
        ")\n",
        "\n",
        "# Window for market share\n",
        "windowSpecMarketShare = Window.partitionBy(\"Origin\")\n",
        "market_share = df_selective.groupBy(\"Marketing_Airline_Network\", \"Origin\").agg(\n",
        "    (F.count(\"*\") * 100.0 / F.sum(F.count(\"*\")).over(windowSpecMarketShare)).alias(\"MarketSharePercentage\")\n",
        ")\n",
        "\n",
        "# Joining DataFrames\n",
        "result = airline_performance.alias(\"a\").join(\n",
        "    market_share.alias(\"m\"),\n",
        "    (col(\"a.Marketing_Airline_Network\") == col(\"m.Marketing_Airline_Network\")) &\n",
        "    (col(\"a.Origin\") == col(\"m.Origin\"))\n",
        ")\n",
        "\n",
        "# Window for ranking by OnTimeRate\n",
        "windowSpecRank = Window.partitionBy(\"a.Origin\").orderBy(col(\"a.OnTimeRate\").desc())\n",
        "\n",
        "# Rank airlines by OnTimeRate within each airport\n",
        "result_with_rank = result.withColumn(\"rank\", rank().over(windowSpecRank))\n",
        "\n",
        "# Filter for top rank\n",
        "result_top = result_with_rank.filter(col(\"rank\") == 1)\n",
        "\n",
        "# Select necessary columns\n",
        "final_result = result_top.select(\n",
        "    \"a.Marketing_Airline_Network\",\n",
        "    \"a.Origin\",\n",
        "    \"a.OnTimeRate\",\n",
        "    # \"m.MarketSharePercentage\"\n",
        ").orderBy(\"a.Origin\", col(\"a.OnTimeRate\").desc())\n",
        "\n",
        "# Show the results\n",
        "final_result.show()"
      ]
    },
    {
      "cell_type": "markdown",
      "metadata": {
        "id": "jrh6UkbcFYO9"
      },
      "source": [
        "### **query 9**"
      ]
    },
    {
      "cell_type": "code",
      "execution_count": 67,
      "metadata": {
        "id": "FpxIXVFum-kj"
      },
      "outputs": [],
      "source": [
        "df_all_delay = df_selective.filter(col('Cancelled')==0)"
      ]
    },
    {
      "cell_type": "code",
      "execution_count": 68,
      "metadata": {
        "id": "fZsanf8rvO0y",
        "colab": {
          "base_uri": "https://localhost:8080/"
        },
        "outputId": "6b79dcda-188a-403f-c90d-8acb4c7029f8"
      },
      "outputs": [
        {
          "output_type": "stream",
          "name": "stdout",
          "text": [
            "+----+-----+----------+---------+-------+----------+-------+----------+-------------------------+-------------------------------+-----------+-----------------+--------------+-------+--------+--------+------+----+--------+------+-------+---------+----------------+------------+------------+--------+-------------+-----------------+------------------+---------------+-----------+\n",
            "|Year|Month|DayofMonth|DayOfWeek|DepTime|CRSDepTime|ArrTime|CRSArrTime|Marketing_Airline_Network|Flight_Number_Marketing_Airline|Tail_Number|ActualElapsedTime|CRSElapsedTime|AirTime|ArrDelay|DepDelay|Origin|Dest|Distance|TaxiIn|TaxiOut|Cancelled|CancellationCode|CarrierDelay|WeatherDelay|NASDelay|SecurityDelay|LateAircraftDelay|Operating_Airline |DepDelayMinutes|     Status|\n",
            "+----+-----+----------+---------+-------+----------+-------+----------+-------------------------+-------------------------------+-----------+-----------------+--------------+-------+--------+--------+------+----+--------+------+-------+---------+----------------+------------+------------+--------+-------------+-----------------+------------------+---------------+-----------+\n",
            "|2021|    1|         2|        6|    733|       730|    927|       939|                       DL|                           4628|     N337PQ|              114|           129|     89|     -12|       3|   CVG| BOS|     752|    13|     12|        0|            NULL|        NULL|        NULL|    NULL|         NULL|             NULL|                9E|              3|SlightDelay|\n",
            "|2021|    1|         3|        7|    727|       730|    924|       939|                       DL|                           4628|     N607LR|              117|           129|     97|     -15|      -3|   CVG| BOS|     752|    10|     10|        0|            NULL|        NULL|        NULL|    NULL|         NULL|             NULL|                9E|              0|     OnTime|\n",
            "|2021|    1|         4|        1|    737|       730|    938|       939|                       DL|                           4628|     N602LR|              121|           129|    103|      -1|       7|   CVG| BOS|     752|     7|     11|        0|            NULL|        NULL|        NULL|    NULL|         NULL|             NULL|                9E|              7|SlightDelay|\n",
            "|2021|    1|         7|        4|   1710|      1715|   1911|      1912|                       DL|                           4628|     N295PQ|              121|           117|    104|      -1|      -5|   CVG| BOS|     752|     5|     12|        0|            NULL|        NULL|        NULL|    NULL|         NULL|             NULL|                9E|              0|     OnTime|\n",
            "|2021|    1|         8|        5|   1711|      1715|   1926|      1912|                       DL|                           4628|     N324PQ|              135|           117|    106|      14|      -4|   CVG| BOS|     752|     6|     23|        0|            NULL|        NULL|        NULL|    NULL|         NULL|             NULL|                9E|              0|     OnTime|\n",
            "|2021|    1|        10|        7|   1709|      1715|   1900|      1912|                       DL|                           4628|     N297PQ|              111|           117|     94|     -12|      -6|   CVG| BOS|     752|     7|     10|        0|            NULL|        NULL|        NULL|    NULL|         NULL|             NULL|                9E|              0|     OnTime|\n",
            "|2021|    1|        11|        1|   1713|      1715|   1859|      1912|                       DL|                           4628|     N902XJ|              106|           117|     94|     -13|      -2|   CVG| BOS|     752|     5|      7|        0|            NULL|        NULL|        NULL|    NULL|         NULL|             NULL|                9E|              0|     OnTime|\n",
            "|2021|    1|        14|        4|   1725|      1715|   1921|      1912|                       DL|                           4628|     N337PQ|              116|           117|    100|       9|      10|   CVG| BOS|     752|     9|      7|        0|            NULL|        NULL|        NULL|    NULL|         NULL|             NULL|                9E|             10|SlightDelay|\n",
            "|2021|    1|        15|        5|   1711|      1715|   1914|      1912|                       DL|                           4628|     N916XJ|              123|           117|     95|       2|      -4|   CVG| BOS|     752|    15|     13|        0|            NULL|        NULL|        NULL|    NULL|         NULL|             NULL|                9E|              0|     OnTime|\n",
            "|2021|    1|        18|        1|   1707|      1715|   1903|      1912|                       DL|                           4628|     N303PQ|              116|           117|     91|      -9|      -8|   CVG| BOS|     752|     5|     20|        0|            NULL|        NULL|        NULL|    NULL|         NULL|             NULL|                9E|              0|     OnTime|\n",
            "|2021|    1|        21|        4|   1705|      1715|   1854|      1912|                       DL|                           4628|     N135EV|              109|           117|     91|     -18|     -10|   CVG| BOS|     752|     7|     11|        0|            NULL|        NULL|        NULL|    NULL|         NULL|             NULL|                9E|              0|     OnTime|\n",
            "|2021|    1|        22|        5|   1704|      1715|   1858|      1912|                       DL|                           4628|     N929XJ|              114|           117|     89|     -14|     -11|   CVG| BOS|     752|     7|     18|        0|            NULL|        NULL|        NULL|    NULL|         NULL|             NULL|                9E|              0|     OnTime|\n",
            "|2021|    1|        24|        7|   1713|      1715|   1856|      1912|                       DL|                           4628|     N135EV|              103|           117|     89|     -16|      -2|   CVG| BOS|     752|     7|      7|        0|            NULL|        NULL|        NULL|    NULL|         NULL|             NULL|                9E|              0|     OnTime|\n",
            "|2021|    1|        25|        1|   1710|      1715|   1856|      1912|                       DL|                           4628|     N926XJ|              106|           117|     88|     -16|      -5|   CVG| BOS|     752|     6|     12|        0|            NULL|        NULL|        NULL|    NULL|         NULL|             NULL|                9E|              0|     OnTime|\n",
            "|2021|    1|        28|        4|   1704|      1715|   1901|      1912|                       DL|                           4628|     N905XJ|              117|           117|     96|     -11|     -11|   CVG| BOS|     752|    10|     11|        0|            NULL|        NULL|        NULL|    NULL|         NULL|             NULL|                9E|              0|     OnTime|\n",
            "|2021|    1|        29|        5|   1730|      1715|   1936|      1912|                       DL|                           4628|     N176PQ|              126|           117|    102|      24|      15|   CVG| BOS|     752|     9|     15|        0|            NULL|          11|           0|       9|            0|                4|                9E|             15|SlightDelay|\n",
            "|2021|    1|        31|        7|   1705|      1715|   1903|      1912|                       DL|                           4628|     N176PQ|              118|           117|     97|      -9|     -10|   CVG| BOS|     752|     8|     13|        0|            NULL|        NULL|        NULL|    NULL|         NULL|             NULL|                9E|              0|     OnTime|\n",
            "|2021|    1|         5|        2|   1623|      1625|   2000|      2005|                       DL|                           4629|     N296PQ|              157|           160|    136|      -5|      -2|   DFW| DTW|     986|    10|     11|        0|            NULL|        NULL|        NULL|    NULL|         NULL|             NULL|                9E|              0|     OnTime|\n",
            "|2021|    1|         6|        3|   1628|      1625|   2005|      2005|                       DL|                           4629|     N131EV|              157|           160|    127|       0|       3|   DFW| DTW|     986|    11|     19|        0|            NULL|        NULL|        NULL|    NULL|         NULL|             NULL|                9E|              3|SlightDelay|\n",
            "|2021|    1|        12|        2|   1620|      1625|   2000|      2005|                       DL|                           4629|     N181PQ|              160|           160|    134|      -5|      -5|   DFW| DTW|     986|    13|     13|        0|            NULL|        NULL|        NULL|    NULL|         NULL|             NULL|                9E|              0|     OnTime|\n",
            "+----+-----+----------+---------+-------+----------+-------+----------+-------------------------+-------------------------------+-----------+-----------------+--------------+-------+--------+--------+------+----+--------+------+-------+---------+----------------+------------+------------+--------+-------------+-----------------+------------------+---------------+-----------+\n",
            "only showing top 20 rows\n",
            "\n"
          ]
        }
      ],
      "source": [
        "from pyspark.sql import functions as F\n",
        "\n",
        "df_all_delay = df_all_delay.withColumn(\n",
        "    'Status',\n",
        "    when(col('DepDelayMinutes') == 0, 'OnTime')\n",
        "    .when((col('DepDelayMinutes') > 0) & (col('DepDelayMinutes') <= 15), 'SlightDelay')\n",
        "    .when((col('DepDelayMinutes') > 15) & (col('DepDelayMinutes') <= 45), 'MediumDelay')\n",
        "    .when(col('DepDelayMinutes') > 45, 'LargeDelay'))\n",
        "# Showing the DataFrame with the new 'Status' column\n",
        "df_all_delay.show()\n"
      ]
    },
    {
      "cell_type": "code",
      "execution_count": 69,
      "metadata": {
        "id": "51KGiu2X4Ucf"
      },
      "outputs": [],
      "source": [
        "from pyspark.sql import functions as F\n",
        "\n",
        "df_all_delay = df_all_delay.withColumn(\n",
        "    'Status',\n",
        "    when(col('DepDelayMinutes') == 0, 'OnTime')\n",
        "    .when((col('DepDelayMinutes') > 0) & (col('DepDelayMinutes') <= 15), 'SlightDelay')\n",
        "    .when((col('DepDelayMinutes') > 15) & (col('DepDelayMinutes') <= 45), 'MediumDelay')\n",
        "    .when(col('DepDelayMinutes') > 45, 'LargeDelay'))\n",
        "dfairline = df_all_delay.groupBy('Operating_Airline ').pivot('Status').count()\n",
        "dfairline = dfairline.withColumn(\"TotalFlights\", col(\"LargeDelay\") + col(\"MediumDelay\") + col(\"OnTime\") + col(\"SlightDelay\"))\n",
        "airline_delay = dfairline.withColumn(\"LargeDelay\", col(\"LargeDelay\") / col(\"TotalFlights\")) \\\n",
        "                     .withColumn(\"MediumDelay\", col(\"MediumDelay\") / col(\"TotalFlights\")) \\\n",
        "                     .withColumn(\"OnTime\", col(\"OnTime\") / col(\"TotalFlights\")) \\\n",
        "                     .withColumn(\"SlightDelay\", col(\"SlightDelay\") / col(\"TotalFlights\"))\n",
        "airline_delay=airline_delay.select('Operating_Airline ','OnTime','SlightDelay','MediumDelay','LargeDelay').orderBy(col('OnTime').desc())\n",
        "\n",
        "\n",
        "total_flights = dfairline.select([F.sum(c).alias(c) for c in dfairline.columns if c != 'Operating_Airline '])\n"
      ]
    },
    {
      "cell_type": "code",
      "execution_count": 70,
      "metadata": {
        "id": "pRtBI7L2_iE2",
        "colab": {
          "base_uri": "https://localhost:8080/"
        },
        "outputId": "349519af-a03f-4da2-9d31-0db6c3d2041d"
      },
      "outputs": [
        {
          "output_type": "stream",
          "name": "stdout",
          "text": [
            "+----------+-----------+-------+-----------+------------+\n",
            "|LargeDelay|MediumDelay| OnTime|SlightDelay|TotalFlights|\n",
            "+----------+-----------+-------+-----------+------------+\n",
            "|    856801|    1004818|6532783|    1736384|    10130786|\n",
            "+----------+-----------+-------+-----------+------------+\n",
            "\n"
          ]
        }
      ],
      "source": [
        "total_flights.show()"
      ]
    },
    {
      "cell_type": "code",
      "execution_count": 71,
      "metadata": {
        "id": "uSZcojXRLS41"
      },
      "outputs": [],
      "source": [
        "airline_delay=airline_delay.select('Operating_Airline ','OnTime','SlightDelay','MediumDelay','LargeDelay').orderBy(col('OnTime').desc())"
      ]
    },
    {
      "cell_type": "code",
      "execution_count": 72,
      "metadata": {
        "id": "7fqdZC8gK5v9",
        "colab": {
          "base_uri": "https://localhost:8080/",
          "height": 739
        },
        "outputId": "0d6517a6-3420-4fa9-80a9-1a6d85128f2c"
      },
      "outputs": [
        {
          "output_type": "execute_result",
          "data": {
            "text/plain": [
              "<pandas.io.formats.style.Styler at 0x7c5289980100>"
            ],
            "text/html": [
              "<style type=\"text/css\">\n",
              "#T_de862_row0_col1, #T_de862_row20_col4, #T_de862_row21_col2, #T_de862_row21_col3 {\n",
              "  background-color: #800026;\n",
              "  color: #f1f1f1;\n",
              "}\n",
              "#T_de862_row0_col2 {\n",
              "  background-color: #fff7b9;\n",
              "  color: #000000;\n",
              "}\n",
              "#T_de862_row0_col3, #T_de862_row1_col2, #T_de862_row15_col4, #T_de862_row21_col1 {\n",
              "  background-color: #ffffcc;\n",
              "  color: #000000;\n",
              "}\n",
              "#T_de862_row0_col4 {\n",
              "  background-color: #fee289;\n",
              "  color: #000000;\n",
              "}\n",
              "#T_de862_row1_col1 {\n",
              "  background-color: #860026;\n",
              "  color: #f1f1f1;\n",
              "}\n",
              "#T_de862_row1_col3 {\n",
              "  background-color: #fffcc4;\n",
              "  color: #000000;\n",
              "}\n",
              "#T_de862_row1_col4 {\n",
              "  background-color: #feca66;\n",
              "  color: #000000;\n",
              "}\n",
              "#T_de862_row2_col1 {\n",
              "  background-color: #930026;\n",
              "  color: #f1f1f1;\n",
              "}\n",
              "#T_de862_row2_col2 {\n",
              "  background-color: #fff3ae;\n",
              "  color: #000000;\n",
              "}\n",
              "#T_de862_row2_col3 {\n",
              "  background-color: #ffeda1;\n",
              "  color: #000000;\n",
              "}\n",
              "#T_de862_row2_col4 {\n",
              "  background-color: #ffea9b;\n",
              "  color: #000000;\n",
              "}\n",
              "#T_de862_row3_col1 {\n",
              "  background-color: #c00225;\n",
              "  color: #f1f1f1;\n",
              "}\n",
              "#T_de862_row3_col2 {\n",
              "  background-color: #fff1a9;\n",
              "  color: #000000;\n",
              "}\n",
              "#T_de862_row3_col3 {\n",
              "  background-color: #ffea99;\n",
              "  color: #000000;\n",
              "}\n",
              "#T_de862_row3_col4 {\n",
              "  background-color: #feb651;\n",
              "  color: #000000;\n",
              "}\n",
              "#T_de862_row4_col1 {\n",
              "  background-color: #d30f20;\n",
              "  color: #f1f1f1;\n",
              "}\n",
              "#T_de862_row4_col2 {\n",
              "  background-color: #ffeda0;\n",
              "  color: #000000;\n",
              "}\n",
              "#T_de862_row4_col3 {\n",
              "  background-color: #ffefa4;\n",
              "  color: #000000;\n",
              "}\n",
              "#T_de862_row4_col4 {\n",
              "  background-color: #fd7c37;\n",
              "  color: #f1f1f1;\n",
              "}\n",
              "#T_de862_row5_col1 {\n",
              "  background-color: #d9131f;\n",
              "  color: #f1f1f1;\n",
              "}\n",
              "#T_de862_row5_col2 {\n",
              "  background-color: #fee085;\n",
              "  color: #000000;\n",
              "}\n",
              "#T_de862_row5_col3 {\n",
              "  background-color: #ffe895;\n",
              "  color: #000000;\n",
              "}\n",
              "#T_de862_row5_col4 {\n",
              "  background-color: #fea747;\n",
              "  color: #000000;\n",
              "}\n",
              "#T_de862_row6_col1 {\n",
              "  background-color: #e0181d;\n",
              "  color: #f1f1f1;\n",
              "}\n",
              "#T_de862_row6_col2 {\n",
              "  background-color: #fece6a;\n",
              "  color: #000000;\n",
              "}\n",
              "#T_de862_row6_col3 {\n",
              "  background-color: #fedd7f;\n",
              "  color: #000000;\n",
              "}\n",
              "#T_de862_row6_col4 {\n",
              "  background-color: #fed06c;\n",
              "  color: #000000;\n",
              "}\n",
              "#T_de862_row7_col1 {\n",
              "  background-color: #e1191d;\n",
              "  color: #f1f1f1;\n",
              "}\n",
              "#T_de862_row7_col2 {\n",
              "  background-color: #fedc7c;\n",
              "  color: #000000;\n",
              "}\n",
              "#T_de862_row7_col3 {\n",
              "  background-color: #fee38b;\n",
              "  color: #000000;\n",
              "}\n",
              "#T_de862_row7_col4 {\n",
              "  background-color: #fea647;\n",
              "  color: #000000;\n",
              "}\n",
              "#T_de862_row8_col1 {\n",
              "  background-color: #ea2920;\n",
              "  color: #f1f1f1;\n",
              "}\n",
              "#T_de862_row8_col2 {\n",
              "  background-color: #fd9a42;\n",
              "  color: #000000;\n",
              "}\n",
              "#T_de862_row8_col3 {\n",
              "  background-color: #fee084;\n",
              "  color: #000000;\n",
              "}\n",
              "#T_de862_row8_col4, #T_de862_row9_col2 {\n",
              "  background-color: #ffe691;\n",
              "  color: #000000;\n",
              "}\n",
              "#T_de862_row9_col1 {\n",
              "  background-color: #ed3022;\n",
              "  color: #f1f1f1;\n",
              "}\n",
              "#T_de862_row9_col3, #T_de862_row20_col1 {\n",
              "  background-color: #feda78;\n",
              "  color: #000000;\n",
              "}\n",
              "#T_de862_row9_col4 {\n",
              "  background-color: #fb4b29;\n",
              "  color: #f1f1f1;\n",
              "}\n",
              "#T_de862_row10_col1 {\n",
              "  background-color: #f33b25;\n",
              "  color: #f1f1f1;\n",
              "}\n",
              "#T_de862_row10_col2 {\n",
              "  background-color: #ffe48d;\n",
              "  color: #000000;\n",
              "}\n",
              "#T_de862_row10_col3 {\n",
              "  background-color: #fed470;\n",
              "  color: #000000;\n",
              "}\n",
              "#T_de862_row10_col4 {\n",
              "  background-color: #f43e26;\n",
              "  color: #f1f1f1;\n",
              "}\n",
              "#T_de862_row11_col1 {\n",
              "  background-color: #f84528;\n",
              "  color: #f1f1f1;\n",
              "}\n",
              "#T_de862_row11_col2, #T_de862_row11_col3 {\n",
              "  background-color: #fed976;\n",
              "  color: #000000;\n",
              "}\n",
              "#T_de862_row11_col4 {\n",
              "  background-color: #fc4d2a;\n",
              "  color: #f1f1f1;\n",
              "}\n",
              "#T_de862_row12_col1 {\n",
              "  background-color: #fa4a29;\n",
              "  color: #f1f1f1;\n",
              "}\n",
              "#T_de862_row12_col2 {\n",
              "  background-color: #fd863a;\n",
              "  color: #f1f1f1;\n",
              "}\n",
              "#T_de862_row12_col3 {\n",
              "  background-color: #fed977;\n",
              "  color: #000000;\n",
              "}\n",
              "#T_de862_row12_col4 {\n",
              "  background-color: #fed774;\n",
              "  color: #000000;\n",
              "}\n",
              "#T_de862_row13_col1 {\n",
              "  background-color: #fc6631;\n",
              "  color: #f1f1f1;\n",
              "}\n",
              "#T_de862_row13_col2 {\n",
              "  background-color: #fd7034;\n",
              "  color: #f1f1f1;\n",
              "}\n",
              "#T_de862_row13_col3 {\n",
              "  background-color: #feaf4b;\n",
              "  color: #000000;\n",
              "}\n",
              "#T_de862_row13_col4 {\n",
              "  background-color: #fede80;\n",
              "  color: #000000;\n",
              "}\n",
              "#T_de862_row14_col1 {\n",
              "  background-color: #fd8a3b;\n",
              "  color: #f1f1f1;\n",
              "}\n",
              "#T_de862_row14_col2, #T_de862_row19_col2 {\n",
              "  background-color: #fd903d;\n",
              "  color: #000000;\n",
              "}\n",
              "#T_de862_row14_col3 {\n",
              "  background-color: #fead4a;\n",
              "  color: #000000;\n",
              "}\n",
              "#T_de862_row14_col4 {\n",
              "  background-color: #fd8439;\n",
              "  color: #f1f1f1;\n",
              "}\n",
              "#T_de862_row15_col1 {\n",
              "  background-color: #fd923e;\n",
              "  color: #000000;\n",
              "}\n",
              "#T_de862_row15_col2 {\n",
              "  background-color: #aa0026;\n",
              "  color: #f1f1f1;\n",
              "}\n",
              "#T_de862_row15_col3 {\n",
              "  background-color: #fecc68;\n",
              "  color: #000000;\n",
              "}\n",
              "#T_de862_row16_col1 {\n",
              "  background-color: #fd9941;\n",
              "  color: #000000;\n",
              "}\n",
              "#T_de862_row16_col2, #T_de862_row17_col1, #T_de862_row18_col1 {\n",
              "  background-color: #fea044;\n",
              "  color: #000000;\n",
              "}\n",
              "#T_de862_row16_col3 {\n",
              "  background-color: #fd7e38;\n",
              "  color: #f1f1f1;\n",
              "}\n",
              "#T_de862_row16_col4 {\n",
              "  background-color: #fc5d2e;\n",
              "  color: #f1f1f1;\n",
              "}\n",
              "#T_de862_row17_col2 {\n",
              "  background-color: #f74327;\n",
              "  color: #f1f1f1;\n",
              "}\n",
              "#T_de862_row17_col3 {\n",
              "  background-color: #fea948;\n",
              "  color: #000000;\n",
              "}\n",
              "#T_de862_row17_col4 {\n",
              "  background-color: #fd9e43;\n",
              "  color: #000000;\n",
              "}\n",
              "#T_de862_row18_col2 {\n",
              "  background-color: #febf5a;\n",
              "  color: #000000;\n",
              "}\n",
              "#T_de862_row18_col3 {\n",
              "  background-color: #fc592d;\n",
              "  color: #f1f1f1;\n",
              "}\n",
              "#T_de862_row18_col4 {\n",
              "  background-color: #dd161d;\n",
              "  color: #f1f1f1;\n",
              "}\n",
              "#T_de862_row19_col1 {\n",
              "  background-color: #fed572;\n",
              "  color: #000000;\n",
              "}\n",
              "#T_de862_row19_col3 {\n",
              "  background-color: #d51020;\n",
              "  color: #f1f1f1;\n",
              "}\n",
              "#T_de862_row19_col4 {\n",
              "  background-color: #d10e21;\n",
              "  color: #f1f1f1;\n",
              "}\n",
              "#T_de862_row20_col2 {\n",
              "  background-color: #fd9640;\n",
              "  color: #000000;\n",
              "}\n",
              "#T_de862_row20_col3 {\n",
              "  background-color: #ee3122;\n",
              "  color: #f1f1f1;\n",
              "}\n",
              "#T_de862_row21_col4 {\n",
              "  background-color: #fd7836;\n",
              "  color: #f1f1f1;\n",
              "}\n",
              "</style>\n",
              "<table id=\"T_de862\" class=\"dataframe\">\n",
              "  <thead>\n",
              "    <tr>\n",
              "      <th class=\"blank level0\" >&nbsp;</th>\n",
              "      <th id=\"T_de862_level0_col0\" class=\"col_heading level0 col0\" >Operating_Airline </th>\n",
              "      <th id=\"T_de862_level0_col1\" class=\"col_heading level0 col1\" >OnTime</th>\n",
              "      <th id=\"T_de862_level0_col2\" class=\"col_heading level0 col2\" >SlightDelay</th>\n",
              "      <th id=\"T_de862_level0_col3\" class=\"col_heading level0 col3\" >MediumDelay</th>\n",
              "      <th id=\"T_de862_level0_col4\" class=\"col_heading level0 col4\" >LargeDelay</th>\n",
              "    </tr>\n",
              "  </thead>\n",
              "  <tbody>\n",
              "    <tr>\n",
              "      <th id=\"T_de862_level0_row0\" class=\"row_heading level0 row0\" >0</th>\n",
              "      <td id=\"T_de862_row0_col0\" class=\"data row0 col0\" >9E</td>\n",
              "      <td id=\"T_de862_row0_col1\" class=\"data row0 col1\" >0.818702</td>\n",
              "      <td id=\"T_de862_row0_col2\" class=\"data row0 col2\" >0.082536</td>\n",
              "      <td id=\"T_de862_row0_col3\" class=\"data row0 col3\" >0.047172</td>\n",
              "      <td id=\"T_de862_row0_col4\" class=\"data row0 col4\" >0.051590</td>\n",
              "    </tr>\n",
              "    <tr>\n",
              "      <th id=\"T_de862_level0_row1\" class=\"row_heading level0 row1\" >1</th>\n",
              "      <td id=\"T_de862_row1_col0\" class=\"data row1 col0\" >PT</td>\n",
              "      <td id=\"T_de862_row1_col1\" class=\"data row1 col1\" >0.813811</td>\n",
              "      <td id=\"T_de862_row1_col2\" class=\"data row1 col2\" >0.070851</td>\n",
              "      <td id=\"T_de862_row1_col3\" class=\"data row1 col3\" >0.050432</td>\n",
              "      <td id=\"T_de862_row1_col4\" class=\"data row1 col4\" >0.064905</td>\n",
              "    </tr>\n",
              "    <tr>\n",
              "      <th id=\"T_de862_level0_row2\" class=\"row_heading level0 row2\" >2</th>\n",
              "      <td id=\"T_de862_row2_col0\" class=\"data row2 col0\" >EM</td>\n",
              "      <td id=\"T_de862_row2_col1\" class=\"data row2 col1\" >0.803571</td>\n",
              "      <td id=\"T_de862_row2_col2\" class=\"data row2 col2\" >0.089286</td>\n",
              "      <td id=\"T_de862_row2_col3\" class=\"data row2 col3\" >0.062500</td>\n",
              "      <td id=\"T_de862_row2_col4\" class=\"data row2 col4\" >0.044643</td>\n",
              "    </tr>\n",
              "    <tr>\n",
              "      <th id=\"T_de862_level0_row3\" class=\"row_heading level0 row3\" >3</th>\n",
              "      <td id=\"T_de862_row3_col0\" class=\"data row3 col0\" >YX</td>\n",
              "      <td id=\"T_de862_row3_col1\" class=\"data row3 col1\" >0.770036</td>\n",
              "      <td id=\"T_de862_row3_col2\" class=\"data row3 col2\" >0.091635</td>\n",
              "      <td id=\"T_de862_row3_col3\" class=\"data row3 col3\" >0.065086</td>\n",
              "      <td id=\"T_de862_row3_col4\" class=\"data row3 col4\" >0.073244</td>\n",
              "    </tr>\n",
              "    <tr>\n",
              "      <th id=\"T_de862_level0_row4\" class=\"row_heading level0 row4\" >4</th>\n",
              "      <td id=\"T_de862_row4_col0\" class=\"data row4 col0\" >ZW</td>\n",
              "      <td id=\"T_de862_row4_col1\" class=\"data row4 col1\" >0.746191</td>\n",
              "      <td id=\"T_de862_row4_col2\" class=\"data row4 col2\" >0.097074</td>\n",
              "      <td id=\"T_de862_row4_col3\" class=\"data row4 col3\" >0.061250</td>\n",
              "      <td id=\"T_de862_row4_col4\" class=\"data row4 col4\" >0.095485</td>\n",
              "    </tr>\n",
              "    <tr>\n",
              "      <th id=\"T_de862_level0_row5\" class=\"row_heading level0 row5\" >5</th>\n",
              "      <td id=\"T_de862_row5_col0\" class=\"data row5 col0\" >OO</td>\n",
              "      <td id=\"T_de862_row5_col1\" class=\"data row5 col1\" >0.740050</td>\n",
              "      <td id=\"T_de862_row5_col2\" class=\"data row5 col2\" >0.113613</td>\n",
              "      <td id=\"T_de862_row5_col3\" class=\"data row5 col3\" >0.066781</td>\n",
              "      <td id=\"T_de862_row5_col4\" class=\"data row5 col4\" >0.079557</td>\n",
              "    </tr>\n",
              "    <tr>\n",
              "      <th id=\"T_de862_level0_row6\" class=\"row_heading level0 row6\" >6</th>\n",
              "      <td id=\"T_de862_row6_col0\" class=\"data row6 col0\" >MQ</td>\n",
              "      <td id=\"T_de862_row6_col1\" class=\"data row6 col1\" >0.731752</td>\n",
              "      <td id=\"T_de862_row6_col2\" class=\"data row6 col2\" >0.130699</td>\n",
              "      <td id=\"T_de862_row6_col3\" class=\"data row6 col3\" >0.075075</td>\n",
              "      <td id=\"T_de862_row6_col4\" class=\"data row6 col4\" >0.062474</td>\n",
              "    </tr>\n",
              "    <tr>\n",
              "      <th id=\"T_de862_level0_row7\" class=\"row_heading level0 row7\" >7</th>\n",
              "      <td id=\"T_de862_row7_col0\" class=\"data row7 col0\" >OH</td>\n",
              "      <td id=\"T_de862_row7_col1\" class=\"data row7 col1\" >0.729865</td>\n",
              "      <td id=\"T_de862_row7_col2\" class=\"data row7 col2\" >0.119258</td>\n",
              "      <td id=\"T_de862_row7_col3\" class=\"data row7 col3\" >0.070704</td>\n",
              "      <td id=\"T_de862_row7_col4\" class=\"data row7 col4\" >0.080173</td>\n",
              "    </tr>\n",
              "    <tr>\n",
              "      <th id=\"T_de862_level0_row8\" class=\"row_heading level0 row8\" >8</th>\n",
              "      <td id=\"T_de862_row8_col0\" class=\"data row8 col0\" >QX</td>\n",
              "      <td id=\"T_de862_row8_col1\" class=\"data row8 col1\" >0.713451</td>\n",
              "      <td id=\"T_de862_row8_col2\" class=\"data row8 col2\" >0.165073</td>\n",
              "      <td id=\"T_de862_row8_col3\" class=\"data row8 col3\" >0.073044</td>\n",
              "      <td id=\"T_de862_row8_col4\" class=\"data row8 col4\" >0.048433</td>\n",
              "    </tr>\n",
              "    <tr>\n",
              "      <th id=\"T_de862_level0_row9\" class=\"row_heading level0 row9\" >9</th>\n",
              "      <td id=\"T_de862_row9_col0\" class=\"data row9 col0\" >G7</td>\n",
              "      <td id=\"T_de862_row9_col1\" class=\"data row9 col1\" >0.708594</td>\n",
              "      <td id=\"T_de862_row9_col2\" class=\"data row9 col2\" >0.105797</td>\n",
              "      <td id=\"T_de862_row9_col3\" class=\"data row9 col3\" >0.077327</td>\n",
              "      <td id=\"T_de862_row9_col4\" class=\"data row9 col4\" >0.108282</td>\n",
              "    </tr>\n",
              "    <tr>\n",
              "      <th id=\"T_de862_level0_row10\" class=\"row_heading level0 row10\" >10</th>\n",
              "      <td id=\"T_de862_row10_col0\" class=\"data row10 col0\" >C5</td>\n",
              "      <td id=\"T_de862_row10_col1\" class=\"data row10 col1\" >0.698597</td>\n",
              "      <td id=\"T_de862_row10_col2\" class=\"data row10 col2\" >0.108860</td>\n",
              "      <td id=\"T_de862_row10_col3\" class=\"data row10 col3\" >0.080440</td>\n",
              "      <td id=\"T_de862_row10_col4\" class=\"data row10 col4\" >0.112102</td>\n",
              "    </tr>\n",
              "    <tr>\n",
              "      <th id=\"T_de862_level0_row11\" class=\"row_heading level0 row11\" >11</th>\n",
              "      <td id=\"T_de862_row11_col0\" class=\"data row11 col0\" >YV</td>\n",
              "      <td id=\"T_de862_row11_col1\" class=\"data row11 col1\" >0.690413</td>\n",
              "      <td id=\"T_de862_row11_col2\" class=\"data row11 col2\" >0.123591</td>\n",
              "      <td id=\"T_de862_row11_col3\" class=\"data row11 col3\" >0.078572</td>\n",
              "      <td id=\"T_de862_row11_col4\" class=\"data row11 col4\" >0.107424</td>\n",
              "    </tr>\n",
              "    <tr>\n",
              "      <th id=\"T_de862_level0_row12\" class=\"row_heading level0 row12\" >12</th>\n",
              "      <td id=\"T_de862_row12_col0\" class=\"data row12 col0\" >DL</td>\n",
              "      <td id=\"T_de862_row12_col1\" class=\"data row12 col1\" >0.685144</td>\n",
              "      <td id=\"T_de862_row12_col2\" class=\"data row12 col2\" >0.177594</td>\n",
              "      <td id=\"T_de862_row12_col3\" class=\"data row12 col3\" >0.077929</td>\n",
              "      <td id=\"T_de862_row12_col4\" class=\"data row12 col4\" >0.059333</td>\n",
              "    </tr>\n",
              "    <tr>\n",
              "      <th id=\"T_de862_level0_row13\" class=\"row_heading level0 row13\" >13</th>\n",
              "      <td id=\"T_de862_row13_col0\" class=\"data row13 col0\" >AS</td>\n",
              "      <td id=\"T_de862_row13_col1\" class=\"data row13 col1\" >0.663857</td>\n",
              "      <td id=\"T_de862_row13_col2\" class=\"data row13 col2\" >0.186731</td>\n",
              "      <td id=\"T_de862_row13_col3\" class=\"data row13 col3\" >0.094640</td>\n",
              "      <td id=\"T_de862_row13_col4\" class=\"data row13 col4\" >0.054772</td>\n",
              "    </tr>\n",
              "    <tr>\n",
              "      <th id=\"T_de862_level0_row14\" class=\"row_heading level0 row14\" >14</th>\n",
              "      <td id=\"T_de862_row14_col0\" class=\"data row14 col0\" >AA</td>\n",
              "      <td id=\"T_de862_row14_col1\" class=\"data row14 col1\" >0.638160</td>\n",
              "      <td id=\"T_de862_row14_col2\" class=\"data row14 col2\" >0.172331</td>\n",
              "      <td id=\"T_de862_row14_col3\" class=\"data row14 col3\" >0.095883</td>\n",
              "      <td id=\"T_de862_row14_col4\" class=\"data row14 col4\" >0.093626</td>\n",
              "    </tr>\n",
              "    <tr>\n",
              "      <th id=\"T_de862_level0_row15\" class=\"row_heading level0 row15\" >15</th>\n",
              "      <td id=\"T_de862_row15_col0\" class=\"data row15 col0\" >HA</td>\n",
              "      <td id=\"T_de862_row15_col1\" class=\"data row15 col1\" >0.630005</td>\n",
              "      <td id=\"T_de862_row15_col2\" class=\"data row15 col2\" >0.260440</td>\n",
              "      <td id=\"T_de862_row15_col3\" class=\"data row15 col3\" >0.083159</td>\n",
              "      <td id=\"T_de862_row15_col4\" class=\"data row15 col4\" >0.026397</td>\n",
              "    </tr>\n",
              "    <tr>\n",
              "      <th id=\"T_de862_level0_row16\" class=\"row_heading level0 row16\" >16</th>\n",
              "      <td id=\"T_de862_row16_col0\" class=\"data row16 col0\" >NK</td>\n",
              "      <td id=\"T_de862_row16_col1\" class=\"data row16 col1\" >0.622001</td>\n",
              "      <td id=\"T_de862_row16_col2\" class=\"data row16 col2\" >0.161699</td>\n",
              "      <td id=\"T_de862_row16_col3\" class=\"data row16 col3\" >0.112980</td>\n",
              "      <td id=\"T_de862_row16_col4\" class=\"data row16 col4\" >0.103320</td>\n",
              "    </tr>\n",
              "    <tr>\n",
              "      <th id=\"T_de862_level0_row17\" class=\"row_heading level0 row17\" >17</th>\n",
              "      <td id=\"T_de862_row17_col0\" class=\"data row17 col0\" >UA</td>\n",
              "      <td id=\"T_de862_row17_col1\" class=\"data row17 col1\" >0.612927</td>\n",
              "      <td id=\"T_de862_row17_col2\" class=\"data row17 col2\" >0.206048</td>\n",
              "      <td id=\"T_de862_row17_col3\" class=\"data row17 col3\" >0.097271</td>\n",
              "      <td id=\"T_de862_row17_col4\" class=\"data row17 col4\" >0.083753</td>\n",
              "    </tr>\n",
              "    <tr>\n",
              "      <th id=\"T_de862_level0_row18\" class=\"row_heading level0 row18\" >18</th>\n",
              "      <td id=\"T_de862_row18_col0\" class=\"data row18 col0\" >F9</td>\n",
              "      <td id=\"T_de862_row18_col1\" class=\"data row18 col1\" >0.612358</td>\n",
              "      <td id=\"T_de862_row18_col2\" class=\"data row18 col2\" >0.140207</td>\n",
              "      <td id=\"T_de862_row18_col3\" class=\"data row18 col3\" >0.121795</td>\n",
              "      <td id=\"T_de862_row18_col4\" class=\"data row18 col4\" >0.125641</td>\n",
              "    </tr>\n",
              "    <tr>\n",
              "      <th id=\"T_de862_level0_row19\" class=\"row_heading level0 row19\" >19</th>\n",
              "      <td id=\"T_de862_row19_col0\" class=\"data row19 col0\" >G4</td>\n",
              "      <td id=\"T_de862_row19_col1\" class=\"data row19 col1\" >0.550698</td>\n",
              "      <td id=\"T_de862_row19_col2\" class=\"data row19 col2\" >0.172693</td>\n",
              "      <td id=\"T_de862_row19_col3\" class=\"data row19 col3\" >0.145824</td>\n",
              "      <td id=\"T_de862_row19_col4\" class=\"data row19 col4\" >0.130785</td>\n",
              "    </tr>\n",
              "    <tr>\n",
              "      <th id=\"T_de862_level0_row20\" class=\"row_heading level0 row20\" >20</th>\n",
              "      <td id=\"T_de862_row20_col0\" class=\"data row20 col0\" >B6</td>\n",
              "      <td id=\"T_de862_row20_col1\" class=\"data row20 col1\" >0.542209</td>\n",
              "      <td id=\"T_de862_row20_col2\" class=\"data row20 col2\" >0.168708</td>\n",
              "      <td id=\"T_de862_row20_col3\" class=\"data row20 col3\" >0.133278</td>\n",
              "      <td id=\"T_de862_row20_col4\" class=\"data row20 col4\" >0.155805</td>\n",
              "    </tr>\n",
              "    <tr>\n",
              "      <th id=\"T_de862_level0_row21\" class=\"row_heading level0 row21\" >21</th>\n",
              "      <td id=\"T_de862_row21_col0\" class=\"data row21 col0\" >WN</td>\n",
              "      <td id=\"T_de862_row21_col1\" class=\"data row21 col1\" >0.453842</td>\n",
              "      <td id=\"T_de862_row21_col2\" class=\"data row21 col2\" >0.278619</td>\n",
              "      <td id=\"T_de862_row21_col3\" class=\"data row21 col3\" >0.171057</td>\n",
              "      <td id=\"T_de862_row21_col4\" class=\"data row21 col4\" >0.096482</td>\n",
              "    </tr>\n",
              "  </tbody>\n",
              "</table>\n"
            ]
          },
          "metadata": {},
          "execution_count": 72
        }
      ],
      "source": [
        "pandas_df = airline_delay.toPandas()\n",
        "\n",
        "# Using styling in pandas to add a gradient\n",
        "styled_df = pandas_df.style.background_gradient(subset=['OnTime', 'SlightDelay', 'MediumDelay', 'LargeDelay'], cmap='YlOrRd')\n",
        "styled_df"
      ]
    }
  ],
  "metadata": {
    "colab": {
      "gpuType": "T4",
      "provenance": []
    },
    "kernelspec": {
      "display_name": "Python 3",
      "name": "python3"
    },
    "language_info": {
      "name": "python"
    }
  },
  "nbformat": 4,
  "nbformat_minor": 0
}